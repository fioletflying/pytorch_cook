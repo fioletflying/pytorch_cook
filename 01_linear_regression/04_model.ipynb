{
 "cells": [
  {
   "cell_type": "code",
   "execution_count": 3,
   "metadata": {},
   "outputs": [],
   "source": [
    "import os\n",
    "import torch\n",
    "from torch import nn\n",
    "from torch.utils.data import DataLoader\n",
    "from torchvision import datasets, transforms"
   ]
  },
  {
   "cell_type": "markdown",
   "metadata": {},
   "source": [
    "### 设置训练设备"
   ]
  },
  {
   "cell_type": "code",
   "execution_count": 2,
   "metadata": {},
   "outputs": [
    {
     "name": "stdout",
     "output_type": "stream",
     "text": [
      "Using cuda device\n"
     ]
    }
   ],
   "source": [
    "device = (\n",
    "    \"cuda\"\n",
    "    if torch.cuda.is_available()\n",
    "    else \"mps\"\n",
    "    if torch.backends.mps.is_available()\n",
    "    else \"cpu\"\n",
    ")\n",
    "\n",
    "print(f\"Using {device} device\")"
   ]
  },
  {
   "cell_type": "code",
   "execution_count": 5,
   "metadata": {},
   "outputs": [],
   "source": [
    "# 定义模型类\n",
    "class NeuralNetwork(nn.Module):\n",
    "    def __init__(self) -> None:\n",
    "        super().__init__()\n",
    "        self.flatten = nn.Flatten()\n",
    "        self.linear_relu_stack = nn.Sequential(\n",
    "            nn.Linear(28*28, 512),\n",
    "            nn.ReLU(),\n",
    "            nn.Linear(512, 512),\n",
    "            nn.ReLU(),\n",
    "            nn.Linear(512, 10)\n",
    "        )\n",
    "\n",
    "    def forward(self, x):\n",
    "        x = self.flatten(x)\n",
    "        logits = self.linear_relu_stack(x)\n",
    "        return logits"
   ]
  },
  {
   "cell_type": "code",
   "execution_count": 6,
   "metadata": {},
   "outputs": [
    {
     "name": "stdout",
     "output_type": "stream",
     "text": [
      "NeuralNetwork(\n",
      "  (flatten): Flatten(start_dim=1, end_dim=-1)\n",
      "  (linear_relu_stack): Sequential(\n",
      "    (0): Linear(in_features=784, out_features=512, bias=True)\n",
      "    (1): ReLU()\n",
      "    (2): Linear(in_features=512, out_features=512, bias=True)\n",
      "    (3): ReLU()\n",
      "    (4): Linear(in_features=512, out_features=10, bias=True)\n",
      "  )\n",
      ")\n"
     ]
    }
   ],
   "source": [
    "model = NeuralNetwork().to(device)\n",
    "print(model)"
   ]
  },
  {
   "cell_type": "code",
   "execution_count": 12,
   "metadata": {},
   "outputs": [
    {
     "name": "stdout",
     "output_type": "stream",
     "text": [
      "Predicted logits: tensor([[-0.0419,  0.0637,  0.0156,  0.0795,  0.0427, -0.0290, -0.0291, -0.1090,\n",
      "          0.0602, -0.0326]], device='cuda:0', grad_fn=<AddmmBackward0>)\n",
      "Predicted Softmax: tensor([[0.0955, 0.1062, 0.1012, 0.1079, 0.1040, 0.0968, 0.0968, 0.0894, 0.1058,\n",
      "         0.0964]], device='cuda:0', grad_fn=<SoftmaxBackward0>)\n",
      "Predicted class: tensor([3], device='cuda:0')\n"
     ]
    }
   ],
   "source": [
    "X = torch.rand(1,28,28, device=device)\n",
    "# print(X)\n",
    "logits = model(X)\n",
    "print(f\"Predicted logits: {logits}\")\n",
    "pred_probab = nn.Softmax(dim=1)(logits)\n",
    "print(f\"Predicted Softmax: {pred_probab}\")\n",
    "y_pred = pred_probab.argmax(1)\n",
    "print(f\"Predicted class: {y_pred}\")"
   ]
  },
  {
   "cell_type": "code",
   "execution_count": 13,
   "metadata": {},
   "outputs": [
    {
     "name": "stdout",
     "output_type": "stream",
     "text": [
      "tensor([[[0.8068, 0.8558, 0.8102,  ..., 0.9120, 0.2129, 0.3224],\n",
      "         [0.8169, 0.8800, 0.1553,  ..., 0.4112, 0.0044, 0.3968],\n",
      "         [0.7673, 0.1388, 0.8604,  ..., 0.8810, 0.0131, 0.7467],\n",
      "         ...,\n",
      "         [0.9193, 0.7896, 0.7182,  ..., 0.9722, 0.8832, 0.1216],\n",
      "         [0.5612, 0.3546, 0.4944,  ..., 0.6890, 0.9282, 0.4229],\n",
      "         [0.5841, 0.4979, 0.7654,  ..., 0.8679, 0.9309, 0.8407]],\n",
      "\n",
      "        [[0.0807, 0.1116, 0.4968,  ..., 0.9065, 0.8049, 0.2915],\n",
      "         [0.2774, 0.9545, 0.6055,  ..., 0.3185, 0.6792, 0.4631],\n",
      "         [0.6244, 0.2358, 0.5516,  ..., 0.2164, 0.3240, 0.7559],\n",
      "         ...,\n",
      "         [0.0269, 0.6044, 0.8570,  ..., 0.9450, 0.5754, 0.3281],\n",
      "         [0.2201, 0.7159, 0.1532,  ..., 0.5858, 0.6398, 0.4081],\n",
      "         [0.6397, 0.1998, 0.5288,  ..., 0.4683, 0.7473, 0.2918]],\n",
      "\n",
      "        [[0.0370, 0.1683, 0.0751,  ..., 0.5601, 0.1525, 0.5470],\n",
      "         [0.0229, 0.3381, 0.9623,  ..., 0.4351, 0.1486, 0.2557],\n",
      "         [0.1278, 0.1830, 0.2306,  ..., 0.1699, 0.5174, 0.0719],\n",
      "         ...,\n",
      "         [0.5041, 0.4433, 0.2770,  ..., 0.6273, 0.6081, 0.7021],\n",
      "         [0.0558, 0.0612, 0.2696,  ..., 0.4051, 0.6391, 0.2170],\n",
      "         [0.8088, 0.4361, 0.5574,  ..., 0.0672, 0.6644, 0.7784]]])\n"
     ]
    }
   ],
   "source": [
    "\n",
    "input_image = torch.rand(3, 28, 28)\n",
    "print(input_image)"
   ]
  },
  {
   "cell_type": "code",
   "execution_count": 14,
   "metadata": {},
   "outputs": [
    {
     "name": "stdout",
     "output_type": "stream",
     "text": [
      "torch.Size([3, 784])\n"
     ]
    }
   ],
   "source": [
    "flatten = nn.Flatten()\n",
    "flat_image = flatten(input_image)\n",
    "print(flat_image.size())"
   ]
  },
  {
   "cell_type": "code",
   "execution_count": 22,
   "metadata": {},
   "outputs": [
    {
     "name": "stdout",
     "output_type": "stream",
     "text": [
      "torch.Size([3, 20])\n"
     ]
    }
   ],
   "source": [
    "layer1 = nn.Linear(in_features=28*28, out_features=20)\n",
    "hidden1 = layer1(flat_image)\n",
    "print(hidden1.size())\n"
   ]
  },
  {
   "cell_type": "code",
   "execution_count": 23,
   "metadata": {},
   "outputs": [
    {
     "name": "stdout",
     "output_type": "stream",
     "text": [
      "Before ReLU: tensor([[ 0.4122, -0.2560,  0.2156,  0.5168, -0.8364,  0.4366, -0.2593, -0.5575,\n",
      "          0.2269,  0.2519,  0.2489,  0.5539, -0.5831,  0.3136, -0.1659, -0.2664,\n",
      "          0.0237, -0.1691, -0.0009, -0.1142],\n",
      "        [ 0.0751, -0.1391,  0.1797,  0.2435, -0.7545,  0.2431, -0.2936, -0.5075,\n",
      "          0.1424, -0.0295,  0.2243,  0.2675, -0.3706,  0.1291, -0.0052, -0.0210,\n",
      "         -0.2030,  0.3105, -0.1511, -0.3432],\n",
      "        [ 0.0638, -0.4578,  0.0679,  0.6503, -0.7627,  0.4289,  0.0046, -0.6478,\n",
      "          0.2612,  0.2057,  0.1477,  0.4752, -0.5051,  0.1311, -0.1232, -0.0937,\n",
      "         -0.2200, -0.1982,  0.0934, -0.0565]], grad_fn=<AddmmBackward0>)\n",
      "\n",
      "\n",
      "After ReLU: tensor([[0.4122, 0.0000, 0.2156, 0.5168, 0.0000, 0.4366, 0.0000, 0.0000, 0.2269,\n",
      "         0.2519, 0.2489, 0.5539, 0.0000, 0.3136, 0.0000, 0.0000, 0.0237, 0.0000,\n",
      "         0.0000, 0.0000],\n",
      "        [0.0751, 0.0000, 0.1797, 0.2435, 0.0000, 0.2431, 0.0000, 0.0000, 0.1424,\n",
      "         0.0000, 0.2243, 0.2675, 0.0000, 0.1291, 0.0000, 0.0000, 0.0000, 0.3105,\n",
      "         0.0000, 0.0000],\n",
      "        [0.0638, 0.0000, 0.0679, 0.6503, 0.0000, 0.4289, 0.0046, 0.0000, 0.2612,\n",
      "         0.2057, 0.1477, 0.4752, 0.0000, 0.1311, 0.0000, 0.0000, 0.0000, 0.0000,\n",
      "         0.0934, 0.0000]], grad_fn=<ReluBackward0>)\n"
     ]
    }
   ],
   "source": [
    "print(f\"Before ReLU: {hidden1}\\n\\n\")\n",
    "hidden1 = nn.ReLU()(hidden1)\n",
    "print(f\"After ReLU: {hidden1}\")"
   ]
  },
  {
   "cell_type": "code",
   "execution_count": 25,
   "metadata": {},
   "outputs": [
    {
     "name": "stdout",
     "output_type": "stream",
     "text": [
      "tensor([[ 0.3536,  0.2873, -0.3933,  0.1784,  0.2652,  0.4851, -0.1268,  0.0193,\n",
      "          0.0671, -0.1598],\n",
      "        [ 0.2598,  0.2685, -0.2874,  0.1531,  0.2105,  0.4733, -0.2094, -0.0263,\n",
      "          0.0179,  0.0288],\n",
      "        [ 0.2431,  0.2431, -0.2658,  0.0950,  0.0915,  0.4653, -0.2970, -0.0618,\n",
      "          0.0251, -0.1131]], grad_fn=<AddmmBackward0>)\n"
     ]
    }
   ],
   "source": [
    "seq_modules = nn.Sequential(\n",
    "    flatten,\n",
    "    layer1,\n",
    "    nn.ReLU(),\n",
    "    nn.Linear(20, 10)\n",
    ")\n",
    "input_image = torch.rand(3,28,28)\n",
    "logits = seq_modules(input_image)\n",
    "print(logits)"
   ]
  },
  {
   "cell_type": "code",
   "execution_count": 26,
   "metadata": {},
   "outputs": [],
   "source": [
    "softmax = nn.Softmax(dim=1)\n",
    "pred_probab = softmax(logits)"
   ]
  },
  {
   "cell_type": "code",
   "execution_count": 27,
   "metadata": {},
   "outputs": [
    {
     "name": "stdout",
     "output_type": "stream",
     "text": [
      "Model structure: NeuralNetwork(\n",
      "  (flatten): Flatten(start_dim=1, end_dim=-1)\n",
      "  (linear_relu_stack): Sequential(\n",
      "    (0): Linear(in_features=784, out_features=512, bias=True)\n",
      "    (1): ReLU()\n",
      "    (2): Linear(in_features=512, out_features=512, bias=True)\n",
      "    (3): ReLU()\n",
      "    (4): Linear(in_features=512, out_features=10, bias=True)\n",
      "  )\n",
      ")\n",
      "\n",
      "\n",
      "Layer: linear_relu_stack.0.weight | Size: torch.Size([512, 784]) | Values : tensor([[ 0.0075, -0.0045,  0.0151,  ..., -0.0201,  0.0296, -0.0031],\n",
      "        [-0.0144,  0.0105,  0.0225,  ...,  0.0169,  0.0134, -0.0089]],\n",
      "       device='cuda:0', grad_fn=<SliceBackward0>) \n",
      "\n",
      "Layer: linear_relu_stack.0.bias | Size: torch.Size([512]) | Values : tensor([0.0198, 0.0255], device='cuda:0', grad_fn=<SliceBackward0>) \n",
      "\n",
      "Layer: linear_relu_stack.2.weight | Size: torch.Size([512, 512]) | Values : tensor([[ 0.0131,  0.0421,  0.0329,  ...,  0.0381, -0.0078, -0.0231],\n",
      "        [-0.0017,  0.0322,  0.0409,  ..., -0.0310, -0.0209, -0.0003]],\n",
      "       device='cuda:0', grad_fn=<SliceBackward0>) \n",
      "\n",
      "Layer: linear_relu_stack.2.bias | Size: torch.Size([512]) | Values : tensor([-0.0137,  0.0246], device='cuda:0', grad_fn=<SliceBackward0>) \n",
      "\n",
      "Layer: linear_relu_stack.4.weight | Size: torch.Size([10, 512]) | Values : tensor([[-1.0275e-02,  3.7921e-02, -2.5718e-02,  ..., -2.2973e-03,\n",
      "          9.5979e-05, -1.0585e-03],\n",
      "        [ 4.1487e-02,  1.6561e-02, -2.7285e-02,  ...,  8.9096e-03,\n",
      "         -1.7567e-02,  2.3907e-02]], device='cuda:0', grad_fn=<SliceBackward0>) \n",
      "\n",
      "Layer: linear_relu_stack.4.bias | Size: torch.Size([10]) | Values : tensor([-0.0197, -0.0161], device='cuda:0', grad_fn=<SliceBackward0>) \n",
      "\n"
     ]
    }
   ],
   "source": [
    "print(f\"Model structure: {model}\\n\\n\")\n",
    "\n",
    "for name, param in model.named_parameters():\n",
    "    print(f\"Layer: {name} | Size: {param.size()} | Values : {param[:2]} \\n\")"
   ]
  },
  {
   "cell_type": "code",
   "execution_count": null,
   "metadata": {},
   "outputs": [],
   "source": []
  }
 ],
 "metadata": {
  "kernelspec": {
   "display_name": "base",
   "language": "python",
   "name": "python3"
  },
  "language_info": {
   "codemirror_mode": {
    "name": "ipython",
    "version": 3
   },
   "file_extension": ".py",
   "mimetype": "text/x-python",
   "name": "python",
   "nbconvert_exporter": "python",
   "pygments_lexer": "ipython3",
   "version": "3.10.13"
  },
  "orig_nbformat": 4
 },
 "nbformat": 4,
 "nbformat_minor": 2
}
