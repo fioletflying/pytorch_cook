{
 "cells": [
  {
   "cell_type": "code",
   "execution_count": 1,
   "metadata": {},
   "outputs": [],
   "source": [
    "import torch\n",
    "from torchvision import datasets\n",
    "from torchvision.transforms import ToTensor, Lambda\n",
    "\n",
    "\n",
    "# 该函数有三个参数：\n",
    "\n",
    "#dim：指定的维度，即在哪个维度上进行填充操作。\n",
    "#index：用于指定填充值的索引位置，可以是整数索引、布尔索引或使用其他张量作为索引。\n",
    "# src：要填充的值，可以是标量、张量或与index形状相同的张量。\n",
    "\n",
    "ds = datasets.FashionMNIST(\n",
    "    root=\"data\",\n",
    "    train=True,\n",
    "    download=False,\n",
    "    transform=ToTensor(),\n",
    "    target_transform=Lambda(lambda y: torch.zeros(10, \n",
    "                                                  dtype=torch.float).scatter_(0,torch.tensor(y), value=1))\n",
    ")"
   ]
  },
  {
   "cell_type": "markdown",
   "metadata": {},
   "source": [
    "Lambda函数是一种匿名函数，也就是没有函数名的函数。它是一种简洁的方式来定义一个小型的、单一的函数，并且通常在需要一个函数对象的地方使用。它的语法形式如下：\n",
    "``` python\n",
    "lambda arguments: expression\n",
    "```\n",
    "\n",
    "lambda函数包括以下几个部分：\n",
    "\n",
    "- lambda关键字：表示定义一个lambda函数。\n",
    "- arguments：函数的参数，可以是一个或多个参数，类似于普通函数的参数定义。\n",
    "- expression：函数的表达式，表示对参数执行的操作，并返回结果。\n",
    "下面是一个简单的lambda函数示例，将传入的参数加倍：\n",
    "\n",
    "```python\n",
    "numbers = [1, 2, 3, 4, 5, 6, 7, 8, 9, 10]\n",
    "squared_even_numbers = list(map(lambda x: x**2, filter(lambda x: x % 2 == 0, numbers)))\n",
    "print(squared_even_numbers)\n",
    "```\n",
    "\n",
    "这段代码使用了lambda函数来定义两个匿名函数：\n",
    "\n",
    "- 第一个lambda函数 lambda x: x**2 用于将输入的数值平方。\n",
    "- 第二个lambda函数 lambda x: x % 2 == 0 用于过滤出偶数。"
   ]
  },
  {
   "cell_type": "markdown",
   "metadata": {},
   "source": [
    "scatter_，它用于在张量的指定维度上进行原地填充操作。具体来说，它将指定值填充到指定索引的位置上，根据提供的维度进行广播或拼接。\n",
    "\n",
    "scatter_函数的语法如下：\n",
    "\n",
    "```python\n",
    "scatter_(dim, index, src)\n",
    "```\n",
    "该函数有三个参数：\n",
    "\n",
    "- dim：指定的维度，即在哪个维度上进行填充操作。\n",
    "- index：用于指定填充值的索引位置，可以是整数索引、布尔索引或使用其他张量作为索引。\n",
    "- src：要填充的值，可以是标量、张量或与index形状相同的张量。\n",
    "\n",
    "```python\n",
    "import torch\n",
    "\n",
    "# 创建一个形状为(4, 3)的零张量\n",
    "tensor = torch.zeros(4, 3)\n",
    "\n",
    "# 创建一个形状为(2,)的索引张量\n",
    "index = torch.tensor([1, 3])\n",
    "\n",
    "# 创建一个形状为(2, 3)的值张量\n",
    "values = torch.tensor([[9, 9, 9], [8, 8, 8]])\n",
    "\n",
    "# 在维度0上使用scatter_函数进行填充\n",
    "tensor.scatter_(0, index.unsqueeze(1), values)\n",
    "\n",
    "print(tensor)\n",
    "```"
   ]
  },
  {
   "cell_type": "markdown",
   "metadata": {},
   "source": []
  }
 ],
 "metadata": {
  "kernelspec": {
   "display_name": "base",
   "language": "python",
   "name": "python3"
  },
  "language_info": {
   "codemirror_mode": {
    "name": "ipython",
    "version": 3
   },
   "file_extension": ".py",
   "mimetype": "text/x-python",
   "name": "python",
   "nbconvert_exporter": "python",
   "pygments_lexer": "ipython3",
   "version": "3.10.13"
  },
  "orig_nbformat": 4
 },
 "nbformat": 4,
 "nbformat_minor": 2
}
