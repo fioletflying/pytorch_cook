{
 "cells": [
  {
   "cell_type": "code",
   "execution_count": null,
   "source": [],
   "outputs": [],
   "metadata": {}
  },
  {
   "cell_type": "code",
   "execution_count": 1,
   "source": [
    "%matplotlib inline\r\n",
    "import random\r\n",
    "import torch"
   ],
   "outputs": [],
   "metadata": {}
  },
  {
   "cell_type": "code",
   "execution_count": 2,
   "source": [
    "def synthetic_data(w,b,num_examples):\r\n",
    "    X = torch.normal(0,1,(num_examples,len(w)))\r\n",
    "    y = torch.matmul(X,w)+b\r\n",
    "    y+=torch.normal(0,0.01,y.shape)\r\n",
    "    return X,y.reshape((-1,1))"
   ],
   "outputs": [],
   "metadata": {}
  },
  {
   "cell_type": "code",
   "execution_count": 3,
   "source": [
    "true_w = torch.Tensor([2,-3.4])\r\n",
    "true_b = 4.2\r\n",
    "features, labels = synthetic_data(true_w, true_b, 1000)\r\n",
    "print('features:', features[0],'\\nlabel:', labels[0])"
   ],
   "outputs": [
    {
     "output_type": "stream",
     "name": "stdout",
     "text": [
      "features: tensor([0.3149, 0.6291]) \n",
      "label: tensor([2.6751])\n"
     ]
    }
   ],
   "metadata": {}
  },
  {
   "cell_type": "markdown",
   "source": [],
   "metadata": {}
  },
  {
   "cell_type": "markdown",
   "source": [
    "### 生成数据集\r\n",
    "这里使用迭代器的方式来实现对数据集的构成，这样可以实现batch_size的数据集的获取"
   ],
   "metadata": {}
  },
  {
   "cell_type": "code",
   "execution_count": 4,
   "source": [
    "def data_iter(batch_size,features,labels):\r\n",
    "    num_examples = len(features)\r\n",
    "    indices = list(range(num_examples))\r\n",
    "\r\n",
    "    random.shuffle(indices)\r\n",
    "    for i in range(0,num_examples,batch_size):\r\n",
    "        batch_indices = torch.tensor(\r\n",
    "            indices[i:min(i+batch_size,num_examples)]\r\n",
    "        )\r\n",
    "        yield features[batch_indices],labels[batch_indices]"
   ],
   "outputs": [],
   "metadata": {}
  },
  {
   "cell_type": "code",
   "execution_count": 5,
   "source": [
    "batch_size = 10\r\n",
    "\r\n",
    "for X,y in data_iter(batch_size,features,labels):\r\n",
    "    print(X,'\\n',y)\r\n",
    "    break"
   ],
   "outputs": [
    {
     "output_type": "stream",
     "name": "stdout",
     "text": [
      "tensor([[ 0.7817,  0.0851],\n",
      "        [ 0.9564,  1.8865],\n",
      "        [-1.1413, -0.0398],\n",
      "        [-0.5371, -1.9656],\n",
      "        [-0.6010, -0.7085],\n",
      "        [-0.2328, -0.0915],\n",
      "        [-0.8251, -0.2667],\n",
      "        [ 1.7524,  0.9099],\n",
      "        [-1.1060,  0.3712],\n",
      "        [ 0.3577, -0.1501]]) \n",
      " tensor([[ 5.4578],\n",
      "        [-0.3003],\n",
      "        [ 2.0510],\n",
      "        [ 9.8192],\n",
      "        [ 5.4087],\n",
      "        [ 4.0467],\n",
      "        [ 3.4615],\n",
      "        [ 4.6039],\n",
      "        [ 0.7394],\n",
      "        [ 5.4329]])\n"
     ]
    }
   ],
   "metadata": {}
  },
  {
   "cell_type": "code",
   "execution_count": 7,
   "source": [
    "# 参数的初始化\r\n",
    "w = torch.normal(0,0.1,size=(2,1),requires_grad=True)\r\n",
    "b = torch.zeros(1,requires_grad=True)"
   ],
   "outputs": [],
   "metadata": {}
  },
  {
   "cell_type": "code",
   "execution_count": 8,
   "source": [
    "def linreg(X,w,b):\r\n",
    "    return torch.matmul(X,w) + b"
   ],
   "outputs": [],
   "metadata": {}
  },
  {
   "cell_type": "code",
   "execution_count": 9,
   "source": [
    "def squared_loss(y_hat,y):\r\n",
    "    # 将真实值y的形状转换为和预测值y_hat的形状相同\r\n",
    "    return (y_hat - y.reshape(y_hat.shape))**2/2"
   ],
   "outputs": [],
   "metadata": {}
  },
  {
   "cell_type": "code",
   "execution_count": 10,
   "source": [
    "def sgd(params,lr,batch_size):\r\n",
    "    with torch.no_grad():\r\n",
    "        for param in params:\r\n",
    "            param -= lr*param.grad/batch_size\r\n",
    "            param.grad.zero_()"
   ],
   "outputs": [],
   "metadata": {}
  },
  {
   "cell_type": "code",
   "execution_count": 11,
   "source": [
    "lr = 0.03\r\n",
    "num_epochs = 3\r\n",
    "net = linreg\r\n",
    "loss = squared_loss\r\n",
    "\r\n",
    "for epoch in range(num_epochs):\r\n",
    "    for X,y in data_iter(batch_size,features,labels):\r\n",
    "        l = loss(net(X,w,b),y)\r\n",
    "        l.sum().backward()\r\n",
    "        sgd([w,b],lr,batch_size)\r\n",
    "\r\n",
    "    with torch.no_grad():\r\n",
    "        train_l = loss(net(features,w,b),labels)\r\n",
    "        print(f'epoch {epoch+1},loss {float(train_l.mean()):f}')"
   ],
   "outputs": [
    {
     "output_type": "stream",
     "name": "stdout",
     "text": [
      "epoch 1,loss0.036918\n",
      "epoch 2,loss0.000126\n",
      "epoch 3,loss0.000047\n"
     ]
    }
   ],
   "metadata": {}
  },
  {
   "cell_type": "code",
   "execution_count": 12,
   "source": [
    "print(f'w error:{true_w - w.reshape(true_w.shape)}')\r\n",
    "print(f'b error:{true_b - b}')"
   ],
   "outputs": [
    {
     "output_type": "stream",
     "name": "stdout",
     "text": [
      "w error:tensor([ 3.8981e-05, -3.4118e-04], grad_fn=<SubBackward0>)\n",
      "b error:tensor([0.0001], grad_fn=<RsubBackward1>)\n"
     ]
    }
   ],
   "metadata": {}
  }
 ],
 "metadata": {
  "orig_nbformat": 4,
  "language_info": {
   "name": "python",
   "version": "3.7.11",
   "mimetype": "text/x-python",
   "codemirror_mode": {
    "name": "ipython",
    "version": 3
   },
   "pygments_lexer": "ipython3",
   "nbconvert_exporter": "python",
   "file_extension": ".py"
  },
  "kernelspec": {
   "name": "python3",
   "display_name": "Python 3.7.11 64-bit ('pt19': conda)"
  },
  "interpreter": {
   "hash": "e2f00676180bb85528a787e87e45ca464fbafa4cd649a5b52b9e7fe827f38559"
  }
 },
 "nbformat": 4,
 "nbformat_minor": 2
}