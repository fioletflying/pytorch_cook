{
 "cells": [
  {
   "cell_type": "code",
   "execution_count": 2,
   "source": [
    "%matplotlib inline\r\n",
    "import random\r\n",
    "import torch"
   ],
   "outputs": [],
   "metadata": {}
  },
  {
   "cell_type": "code",
   "execution_count": 3,
   "source": [
    "def synthetic_data(w,b,num_examples):\r\n",
    "    X = torch.normal(0,1,(num_examples,len(w)))\r\n",
    "    y = torch.matmul(X,w)+b\r\n",
    "    y+=torch.normal(0,0.01,y.shape)\r\n",
    "    return X,y.reshape((-1,1))"
   ],
   "outputs": [],
   "metadata": {}
  },
  {
   "cell_type": "code",
   "execution_count": 5,
   "source": [
    "true_w = torch.Tensor([2,-3.4])\r\n",
    "true_b = 4.2\r\n",
    "features, labels = synthetic_data(true_w, true_b, 1000)\r\n",
    "print('features:', features[0],'\\nlabel:', labels[0])"
   ],
   "outputs": [
    {
     "output_type": "stream",
     "name": "stdout",
     "text": [
      "features: tensor([-0.1808,  0.1601]) \n",
      "label: tensor([3.3021])\n"
     ]
    }
   ],
   "metadata": {}
  },
  {
   "cell_type": "code",
   "execution_count": null,
   "source": [],
   "outputs": [],
   "metadata": {}
  }
 ],
 "metadata": {
  "orig_nbformat": 4,
  "language_info": {
   "name": "python",
   "version": "3.7.11",
   "mimetype": "text/x-python",
   "codemirror_mode": {
    "name": "ipython",
    "version": 3
   },
   "pygments_lexer": "ipython3",
   "nbconvert_exporter": "python",
   "file_extension": ".py"
  },
  "kernelspec": {
   "name": "python3",
   "display_name": "Python 3.7.11 64-bit ('pt19': conda)"
  },
  "interpreter": {
   "hash": "e2f00676180bb85528a787e87e45ca464fbafa4cd649a5b52b9e7fe827f38559"
  }
 },
 "nbformat": 4,
 "nbformat_minor": 2
}