{
 "cells": [
  {
   "cell_type": "markdown",
   "metadata": {},
   "source": [
    "## datasets 和 dataloaders\n",
    "\n",
    "这个两个API函数就是用来从模型训练中分离数据预处理以及加载，这样做的两个目的：\n",
    "- 代码的可读性更好\n",
    "- 代码的模块更好\n",
    "\n",
    "两个重要的AI函数：\n",
    "- `torch.utils.data.Dataset`: 这个用来加载预存放的数据集:包含数据集和标签\n",
    "- `torch.utils.data.DataLoader`:用来将Dataset数据集打包成方便调用的迭代器\n"
   ]
  },
  {
   "cell_type": "code",
   "execution_count": 1,
   "metadata": {},
   "outputs": [],
   "source": [
    "import torch\n",
    "from torch.utils.data import Dataset\n",
    "from torchvision import datasets\n",
    "from torchvision.transforms import ToTensor\n",
    "import matplotlib.pyplot as plt\n"
   ]
  },
  {
   "cell_type": "code",
   "execution_count": 2,
   "metadata": {},
   "outputs": [],
   "source": [
    "training_data = datasets.FashionMNIST(\n",
    "    root=\"data\",\n",
    "    train=True,\n",
    "    download=False,\n",
    "    transform=ToTensor()\n",
    ")\n",
    "test_data = datasets.FashionMNIST(\n",
    "    root=\"data\",\n",
    "    train=False,\n",
    "    download=False,\n",
    "    transform=ToTensor()\n",
    ")"
   ]
  },
  {
   "cell_type": "code",
   "execution_count": 59,
   "metadata": {},
   "outputs": [
    {
     "name": "stdout",
     "output_type": "stream",
     "text": [
      "<class 'torchvision.datasets.mnist.FashionMNIST'>\n",
      "60000\n",
      "torch.Size([1, 28, 28])\n"
     ]
    }
   ],
   "source": [
    "print(type(training_data))\n",
    "print(len(training_data))\n",
    "print(training_data[0][0].shape)"
   ]
  },
  {
   "cell_type": "code",
   "execution_count": 29,
   "metadata": {},
   "outputs": [
    {
     "name": "stdout",
     "output_type": "stream",
     "text": [
      "tensor([102])\n",
      "tensor([[59, 89, 32, 37, 91],\n",
      "        [80, 84, 45, 97, 58]])\n",
      "tensor([[3, 4, 2],\n",
      "        [2, 4, 2],\n",
      "        [4, 4, 3]])\n"
     ]
    }
   ],
   "source": [
    "# torch 中 randint\n",
    "# torch 生成随机数的案例\n",
    "a = torch.randint(110, size=(1,))\n",
    "b = torch.randint(110, size=(2,5))\n",
    "c = torch.randint(2,5, size=(3,3))\n",
    "print(a)\n",
    "print(b)\n",
    "print(c)"
   ]
  },
  {
   "cell_type": "code",
   "execution_count": 61,
   "metadata": {},
   "outputs": [
    {
     "data": {
      "image/png": "[encoded data removed]",
      "text/plain": [
       "<Figure size 576x576 with 9 Axes>"
      ]
     },
     "metadata": {
      "needs_background": "light"
     },
     "output_type": "display_data"
    }
   ],
   "source": [
    "labels_map = {\n",
    "    0: \"T-Shirt\",\n",
    "    1: \"Trouser\",\n",
    "    2: \"Pullover\",\n",
    "    3: \"Dress\",\n",
    "    4: \"Coat\",\n",
    "    5: \"Sandal\",\n",
    "    6: \"Shirt\",\n",
    "    7: \"Sneaker\",\n",
    "    8: \"Bag\",\n",
    "    9: \"Ankle Boot\",\n",
    "}\n",
    "\n",
    "figure = plt.figure(figsize=(8,8))\n",
    "cols, rows = 3, 3\n",
    "for i in range(1, cols * rows + 1):\n",
    "    sample_idx = torch.randint(len(training_data), size=(1,)).item()\n",
    "    # 获得dataset的地方\n",
    "    img, label = training_data[sample_idx]\n",
    "    figure.add_subplot(rows, cols, i)\n",
    "    plt.title(labels_map[label])\n",
    "    plt.axis(\"off\")\n",
    "    plt.imshow(img.squeeze(), cmap=\"gray\")"
   ]
  }
 ],
 "metadata": {
  "kernelspec": {
   "display_name": "Python 3.8.12 ('torch')",
   "language": "python",
   "name": "python3"
  },
  "language_info": {
   "codemirror_mode": {
    "name": "ipython",
    "version": 3
   },
   "file_extension": ".py",
   "mimetype": "text/x-python",
   "name": "python",
   "nbconvert_exporter": "python",
   "pygments_lexer": "ipython3",
   "version": "3.8.12"
  },
  "orig_nbformat": 4,
  "vscode": {
   "interpreter": {
    "hash": "117e442dca80433ebd14c647c5435de0b3bd3a721296d97cd0475c1b541bf910"
   }
  }
 },
 "nbformat": 4,
 "nbformat_minor": 2
}
