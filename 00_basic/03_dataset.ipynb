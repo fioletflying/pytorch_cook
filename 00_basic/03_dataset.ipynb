{
 "cells": [
  {
   "cell_type": "markdown",
   "metadata": {},
   "source": [
    "# datasets and dataloder\n",
    "\n",
    "Dataset 是用来存储样本和样本对应的标签数据\n",
    "DataLoader 是用来将Dataset的数据打包成一个迭代器，这样可以方便使用\n",
    "\n",
    "需要使用的库：\n",
    "- torch.utils.data.Dataloader\n",
    "- torch.utils.data.Dataset\n",
    "\n",
    "pytorch 里面预存了很多相关的数据"
   ]
  },
  {
   "cell_type": "markdown",
   "metadata": {},
   "source": [
    "### 加载预存数据样本 FashionMNIST \n",
    "\n",
    "这是一个类似与MNIST数据样本的格式，\n",
    "- 60000个训练样本，\n",
    "- 10000个测试样本，\n",
    "- 单个样本大小为28*28 灰度图像\n",
    "- 10个类别\n",
    "\n",
    "函数的详情：[FashionMNIST](https://pytorch.org/vision/stable/datasets.html#fashion-mnist)\n",
    "- root : 数据存放的路径\n",
    "- train： 该数据是测试数据还是训练数据\n",
    "- download：是否需要下载\n",
    "- transform：是否需要调用各种转换函数：transforms.RandomCrop\n",
    "- target_transform：是否需要对标签进行转换\n",
    "\n",
    "\n"
   ]
  },
  {
   "cell_type": "code",
   "execution_count": 1,
   "metadata": {},
   "outputs": [],
   "source": [
    "import torch\n",
    "from torch.utils.data import Dataset\n",
    "from torchvision import datasets\n",
    "from torchvision.transforms import ToTensor\n",
    "import matplotlib.pyplot as plt\n",
    "\n",
    "# 加载训练数据\n",
    "training_data = datasets.FashionMNIST(\n",
    "    root=\"data\",\n",
    "    train=True,\n",
    "    download=True,\n",
    "    transform=ToTensor()\n",
    ")\n",
    "\n",
    "# 加载测试数据\n",
    "test_data = datasets.FashionMNIST(\n",
    "    root=\"data\",\n",
    "    train=False,\n",
    "    download=True,\n",
    "    transform=ToTensor()\n",
    ")"
   ]
  },
  {
   "cell_type": "code",
   "execution_count": 4,
   "metadata": {},
   "outputs": [
    {
     "name": "stdout",
     "output_type": "stream",
     "text": [
      "torch.Size([1, 28, 28])\n",
      "torch.Size([1, 28, 28])\n",
      "torch.Size([1, 28, 28])\n",
      "torch.Size([1, 28, 28])\n",
      "torch.Size([1, 28, 28])\n",
      "torch.Size([1, 28, 28])\n",
      "torch.Size([1, 28, 28])\n",
      "torch.Size([1, 28, 28])\n",
      "torch.Size([1, 28, 28])\n"
     ]
    },
    {
     "data": {
      "image/png": "[encoded data removed]",
      "text/plain": [
       "<Figure size 576x576 with 9 Axes>"
      ]
     },
     "metadata": {
      "needs_background": "light"
     },
     "output_type": "display_data"
    }
   ],
   "source": [
    "labels_map = {\n",
    "    0: \"T-Shirt\",\n",
    "    1: \"Trouser\",\n",
    "    2: \"Pullover\",\n",
    "    3: \"Dress\",\n",
    "    4: \"Coat\",\n",
    "    5: \"Sandal\",\n",
    "    6: \"Shirt\",\n",
    "    7: \"Sneaker\",\n",
    "    8: \"Bag\",\n",
    "    9: \"Ankle Boot\",\n",
    "}\n",
    "\n",
    "# 绘制图片的基本的用法 figure\n",
    "# torch 转换成普通python数据类型\n",
    "# squeeze()的使用\n",
    "figure = plt.figure(figsize=(8,8))\n",
    "cols, rows = 3, 3\n",
    "for i in range(1, cols * rows + 1):\n",
    "    # 单个tensor元素可以转换成python的数据格式\n",
    "    sample_idx = torch.randint(len(training_data),size=(1,)).item()\n",
    "    img, label = training_data[sample_idx]\n",
    "    print(img.shape)\n",
    "    # 使用figure绘制图片\n",
    "    figure.add_subplot(rows, cols, i)\n",
    "    plt.title(labels_map[label])\n",
    "    plt.axis(\"off\")\n",
    "    plt.imshow(img.squeeze(), cmap=\"gray\")\n",
    "\n",
    "plt.show() \n"
   ]
  },
  {
   "cell_type": "markdown",
   "metadata": {},
   "source": [
    "### transform\n",
    "上述的datsets函数中有一个比较特别的参数，就是transform，其主要的作用：\n",
    "- 转换数据格式：将原始的数据转换成可以用来训练的的数据格式\n",
    "\n",
    "在torchvision中会有这样两个转换参数：\n",
    "- transform: 用来转换输入的有参数\n",
    "- traget_transform:用来转换标签的参数\n",
    "\n"
   ]
  },
  {
   "cell_type": "code",
   "execution_count": 1,
   "metadata": {},
   "outputs": [],
   "source": [
    "import torch\n",
    "from torchvision import datasets\n",
    "from torchvision.transforms import ToTensor, Lambda\n",
    "\n",
    "ds = datasets.FashionMNIST(\n",
    "    root=\"data\",\n",
    "    train=True,\n",
    "    download=False,\n",
    "    # ToTensor() 这里是将PIL或者Numpy转换成FloatTensor格式\n",
    "    transform=ToTensor(),\n",
    "    # 使用Lambda来实现onehot转换\n",
    "    target_transform=Lambda(lambda y:torch.zeros(10,dtype=torch.float).scatter_(0,torch.tensor(y),value=1))\n",
    ")\n"
   ]
  },
  {
   "cell_type": "code",
   "execution_count": 3,
   "metadata": {},
   "outputs": [
    {
     "name": "stdout",
     "output_type": "stream",
     "text": [
      "Lambda()\n"
     ]
    }
   ],
   "source": [
    "# test lambda\n",
    "# 这里就是将输入的lable标签转换成onehot形式，比如\n",
    "# 9 => [0,0,0,0,0,0,0,0,0,1]\n",
    "target_transform = Lambda(lambda y: torch.zeros(\n",
    "    10,dtype=torch.float).scatter_(dim=0,index=torch.tensor(y),value=1)\n",
    ")\n",
    "\n",
    "print(target_transform)"
   ]
  }
 ],
 "metadata": {
  "interpreter": {
   "hash": "42afbfe2b2baf52c069c4291973036123f10f1e57ae2ea05654d3d64ea5c9a17"
  },
  "kernelspec": {
   "display_name": "Python 3.8.12 64-bit ('aitest': conda)",
   "language": "python",
   "name": "python3"
  },
  "language_info": {
   "codemirror_mode": {
    "name": "ipython",
    "version": 3
   },
   "file_extension": ".py",
   "mimetype": "text/x-python",
   "name": "python",
   "nbconvert_exporter": "python",
   "pygments_lexer": "ipython3",
   "version": "3.8.12"
  },
  "orig_nbformat": 4
 },
 "nbformat": 4,
 "nbformat_minor": 2
}
