{
 "cells": [
  {
   "cell_type": "code",
   "execution_count": 1,
   "metadata": {},
   "outputs": [],
   "source": [
    "import torch\n",
    "import torch.nn"
   ]
  },
  {
   "cell_type": "code",
   "execution_count": 34,
   "metadata": {},
   "outputs": [
    {
     "name": "stdout",
     "output_type": "stream",
     "text": [
      "tensor([1., 1., 1., 1., 1.]) tensor([0., 0., 0.]) tensor([[ 2.1351e+00,  1.0517e+00,  2.9906e-01],\n",
      "        [-1.1009e-01,  1.9343e+00, -4.0283e-04],\n",
      "        [ 3.7336e-01,  1.0435e-01, -5.4106e-02],\n",
      "        [ 3.8330e-01, -3.1716e-02, -1.2490e+00],\n",
      "        [-9.3099e-02,  1.1238e+00, -4.2071e-01]], requires_grad=True) tensor([-0.1416,  0.7868,  0.2001], requires_grad=True) tensor(2.6187, grad_fn=<BinaryCrossEntropyWithLogitsBackward0>)\n"
     ]
    }
   ],
   "source": [
    "x = torch.ones(5)\n",
    "y = torch.zeros(3)\n",
    "# 使用参数 requires_grad 表示需要进行梯度计算\n",
    "w = torch.randn(5, 3, requires_grad=True)\n",
    "b = torch.randn(3, requires_grad=True)\n",
    "#设置tensor的计算梯度的属性\n",
    "# b.requires_grad_(False)\n",
    "z = torch.matmul(x, w)+b\n",
    "\n",
    "# 使用 functional来构造一个计算图\n",
    "loss = torch.nn.functional.binary_cross_entropy_with_logits(z,y)\n",
    "\n",
    "print(x,y,w,b,loss)"
   ]
  },
  {
   "cell_type": "code",
   "execution_count": 30,
   "metadata": {},
   "outputs": [
    {
     "name": "stdout",
     "output_type": "stream",
     "text": [
      "Gradient function for z =  <AddBackward0 object at 0x0000018CEB71D0D0>\n",
      "Gradient function for loss =  <BinaryCrossEntropyWithLogitsBackward0 object at 0x0000018CEB6C9580>\n"
     ]
    }
   ],
   "source": [
    "print('Gradient function for z = ', z.grad_fn)\n",
    "print('Gradient function for loss = ', loss.grad_fn)"
   ]
  },
  {
   "cell_type": "code",
   "execution_count": 45,
   "metadata": {},
   "outputs": [
    {
     "name": "stdout",
     "output_type": "stream",
     "text": [
      "tensor([[3.4004, 3.6414, 0.8325],\n",
      "        [3.4004, 3.6414, 0.8325],\n",
      "        [3.4004, 3.6414, 0.8325],\n",
      "        [3.4004, 3.6414, 0.8325],\n",
      "        [3.4004, 3.6414, 0.8325]])\n",
      "tensor([3.4004, 3.6414, 0.8325])\n"
     ]
    }
   ],
   "source": [
    "#计算梯度值\n",
    "# 由于考虑到性能的原因，这里智能执行一次，因为只有一张计算图\n",
    "# retain_graph = True 通过设置该参数，可以被反复调用\n",
    "loss.backward(retain_graph = True)\n",
    "print(w.grad)\n",
    "print(b.grad)"
   ]
  },
  {
   "cell_type": "markdown",
   "metadata": {},
   "source": [
    "#### 不需要计算梯度反向传播\n",
    "- 将网络的一些参数frozen, 不需要进行修改的时候\n",
    "- 加速计算，比如只用于推理，而不是训练的时候"
   ]
  },
  {
   "cell_type": "code",
   "execution_count": 46,
   "metadata": {},
   "outputs": [
    {
     "name": "stdout",
     "output_type": "stream",
     "text": [
      "True\n",
      "False\n"
     ]
    }
   ],
   "source": [
    "z = torch.matmul(x, w) + b\n",
    "print(z.requires_grad)\n",
    "\n",
    "# 不追踪梯度\n",
    "with torch.no_grad():\n",
    "    z = torch.matmul(x, w) + b\n",
    "print(z.requires_grad)"
   ]
  },
  {
   "cell_type": "code",
   "execution_count": 27,
   "metadata": {},
   "outputs": [
    {
     "name": "stdout",
     "output_type": "stream",
     "text": [
      "False\n"
     ]
    }
   ],
   "source": [
    "# 使用 detach 也快可以不追踪计算相关的梯度值\n",
    "z = torch.matmul(x,w) + b\n",
    "z_det = z.detach()\n",
    "print(z_det.requires_grad)"
   ]
  },
  {
   "cell_type": "code",
   "execution_count": null,
   "metadata": {},
   "outputs": [],
   "source": [
    "inp = torch.eye(5, requires_grad=True)\n",
    "out = (inp+1).pow(2)\n",
    "\n"
   ]
  }
 ],
 "metadata": {
  "interpreter": {
   "hash": "4ba52228318ac7a49b387b661d7c5b5da191fb3537bd08c26009413472b57ea6"
  },
  "kernelspec": {
   "display_name": "Python 3.8.12 64-bit ('torch': conda)",
   "language": "python",
   "name": "python3"
  },
  "language_info": {
   "codemirror_mode": {
    "name": "ipython",
    "version": 3
   },
   "file_extension": ".py",
   "mimetype": "text/x-python",
   "name": "python",
   "nbconvert_exporter": "python",
   "pygments_lexer": "ipython3",
   "version": "3.8.12"
  },
  "orig_nbformat": 4
 },
 "nbformat": 4,
 "nbformat_minor": 2
}
