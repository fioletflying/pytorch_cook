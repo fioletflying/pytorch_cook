{
 "cells": [
  {
   "cell_type": "code",
   "execution_count": 6,
   "source": [
    "import torch\r\n",
    "\r\n",
    "print(torch.__version__)\r\n",
    "print(torch.cuda.is_available())\r\n",
    "print(torch.cuda.device_count())\r\n",
    "print(torch.cuda.get_device_name(0))"
   ],
   "outputs": [
    {
     "output_type": "stream",
     "name": "stdout",
     "text": [
      "1.8.1\n",
      "True\n",
      "1\n",
      "GeForce 940M\n"
     ]
    }
   ],
   "metadata": {}
  },
  {
   "cell_type": "code",
   "execution_count": 2,
   "source": [
    "import torchvision\r\n",
    "\r\n",
    "print(torchvision.__version__)"
   ],
   "outputs": [
    {
     "output_type": "stream",
     "name": "stdout",
     "text": [
      "0.9.1\n"
     ]
    }
   ],
   "metadata": {}
  }
 ],
 "metadata": {
  "orig_nbformat": 4,
  "language_info": {
   "name": "python",
   "version": "3.7.11",
   "mimetype": "text/x-python",
   "codemirror_mode": {
    "name": "ipython",
    "version": 3
   },
   "pygments_lexer": "ipython3",
   "nbconvert_exporter": "python",
   "file_extension": ".py"
  },
  "kernelspec": {
   "name": "python3",
   "display_name": "Python 3.7.11 64-bit ('pt19': conda)"
  },
  "interpreter": {
   "hash": "e2f00676180bb85528a787e87e45ca464fbafa4cd649a5b52b9e7fe827f38559"
  }
 },
 "nbformat": 4,
 "nbformat_minor": 2
}