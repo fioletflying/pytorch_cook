{
 "cells": [
  {
   "cell_type": "code",
   "execution_count": 1,
   "metadata": {},
   "outputs": [],
   "source": [
    "import torch\n",
    "import numpy as np"
   ]
  },
  {
   "cell_type": "markdown",
   "metadata": {},
   "source": [
    "### Tensor 初始化\n",
    "\n",
    "Tensor 就是跟numpy的ndarray 很像，无论从底层内存的共享还是基础的操作上，两者有很多共同的地方。Tensor可以指定不同的硬件作为载体，同时在自动的微分方面有很多的自己独特的优势。\n",
    "\n",
    "Tensor的初始化可以右很多左方式：\n",
    "- 直接通过python列表\n",
    "- Numpy array\n",
    "- 利用其他的tensor\n",
    "- 使用随机值或者常量值"
   ]
  },
  {
   "cell_type": "code",
   "execution_count": 8,
   "metadata": {},
   "outputs": [
    {
     "name": "stdout",
     "output_type": "stream",
     "text": [
      "x_data: tensor([[1, 2],\n",
      "        [3, 4]]) : type: torch.int64\n",
      "X_data: tensor([[1., 2.],\n",
      "        [3., 4.]]) : type: torch.float32\n"
     ]
    }
   ],
   "source": [
    "# 直接通过python列表\n",
    "data = [[1,2],[3,4]]\n",
    "# 这个是官方推荐的写法,工厂函数,自动推断其参数的类型\n",
    "x_data = torch.tensor(data)\n",
    "# 这个是里所有构造函数来定义tensor，构造的张量使用全局默认值\n",
    "# 所以其数据的类型使用全局默认的值torch.float32\n",
    "X_data = torch.Tensor(data)\n",
    "\n",
    "print(f\"x_data: {x_data} : type: {x_data.dtype}\")\n",
    "print(f\"X_data: {X_data} : type: {X_data.dtype}\")"
   ]
  }
 ],
 "metadata": {
  "interpreter": {
   "hash": "dc9e52bbb7f79307de44737693a67c5cb327d3db72d02ef87949eb64c61d4b71"
  },
  "kernelspec": {
   "display_name": "Python 3.8.12 64-bit ('aitest': conda)",
   "language": "python",
   "name": "python3"
  },
  "language_info": {
   "codemirror_mode": {
    "name": "ipython",
    "version": 3
   },
   "file_extension": ".py",
   "mimetype": "text/x-python",
   "name": "python",
   "nbconvert_exporter": "python",
   "pygments_lexer": "ipython3",
   "version": "3.8.12"
  },
  "orig_nbformat": 4
 },
 "nbformat": 4,
 "nbformat_minor": 2
}
