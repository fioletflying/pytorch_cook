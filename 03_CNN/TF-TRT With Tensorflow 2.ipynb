{
 "cells": [
  {
   "cell_type": "code",
   "execution_count": null,
   "metadata": {},
   "outputs": [],
   "source": [
    "!wget \"https://raw.githubusercontent.com/NVIDIA/TensorRT/main/quickstart/IntroNotebooks/helper.py\""
   ]
  },
  {
   "cell_type": "code",
   "execution_count": 1,
   "metadata": {},
   "outputs": [
    {
     "name": "stdout",
     "output_type": "stream",
     "text": [
      "Wed Jun  1 10:04:43 2022       \n",
      "+-----------------------------------------------------------------------------+\n",
      "| NVIDIA-SMI 470.94       Driver Version: 470.94       CUDA Version: 11.4     |\n",
      "|-------------------------------+----------------------+----------------------+\n",
      "| GPU  Name        Persistence-M| Bus-Id        Disp.A | Volatile Uncorr. ECC |\n",
      "| Fan  Temp  Perf  Pwr:Usage/Cap|         Memory-Usage | GPU-Util  Compute M. |\n",
      "|                               |                      |               MIG M. |\n",
      "|===============================+======================+======================|\n",
      "|   0  NVIDIA GeForce ...  Off  | 00000000:02:00.0 Off |                  N/A |\n",
      "| 30%   41C    P0   105W / 350W |      0MiB / 24268MiB |      0%      Default |\n",
      "|                               |                      |                  N/A |\n",
      "+-------------------------------+----------------------+----------------------+\n",
      "|   1  NVIDIA GeForce ...  Off  | 00000000:82:00.0 Off |                  N/A |\n",
      "| 30%   42C    P0   105W / 350W |      0MiB / 24268MiB |      0%      Default |\n",
      "|                               |                      |                  N/A |\n",
      "+-------------------------------+----------------------+----------------------+\n",
      "                                                                               \n",
      "+-----------------------------------------------------------------------------+\n",
      "| Processes:                                                                  |\n",
      "|  GPU   GI   CI        PID   Type   Process name                  GPU Memory |\n",
      "|        ID   ID                                                   Usage      |\n",
      "|=============================================================================|\n",
      "|  No running processes found                                                 |\n",
      "+-----------------------------------------------------------------------------+\n"
     ]
    }
   ],
   "source": [
    "!nvidia-smi"
   ]
  },
  {
   "cell_type": "code",
   "execution_count": 1,
   "metadata": {},
   "outputs": [
    {
     "name": "stdout",
     "output_type": "stream",
     "text": [
      "2.6.0\n"
     ]
    }
   ],
   "source": [
    "import tensorflow as tf\n",
    "\n",
    "print(tf.__version__)"
   ]
  },
  {
   "cell_type": "code",
   "execution_count": 8,
   "metadata": {},
   "outputs": [],
   "source": [
    "from tensorflow.keras.applications import ResNet50\n",
    "\n",
    "model_dir = 'data/resnet50_saved_model'\n",
    "model = ResNet50(include_top=True, weights='imagenet')"
   ]
  },
  {
   "cell_type": "code",
   "execution_count": 3,
   "metadata": {},
   "outputs": [
    {
     "name": "stdout",
     "output_type": "stream",
     "text": [
      "WARNING:tensorflow:Compiled the loaded model, but the compiled metrics have yet to be built. `model.compile_metrics` will be empty until you train or evaluate the model.\n"
     ]
    },
    {
     "name": "stderr",
     "output_type": "stream",
     "text": [
      "2022-06-01 09:50:32.022296: W tensorflow/python/util/util.cc:348] Sets are not currently considered sequences, but this may change in the future, so consider avoiding using them.\n"
     ]
    },
    {
     "name": "stdout",
     "output_type": "stream",
     "text": [
      "INFO:tensorflow:Assets written to: data/resnet50_saved_model/assets\n"
     ]
    },
    {
     "name": "stderr",
     "output_type": "stream",
     "text": [
      "/root/miniconda3/envs/trt_tf/lib/python3.8/site-packages/keras/utils/generic_utils.py:494: CustomMaskWarning: Custom mask layers require a config and must override get_config. When loading, the custom mask layer must be passed to the custom_objects argument.\n",
      "  warnings.warn('Custom mask layers require a config and must override '\n"
     ]
    }
   ],
   "source": [
    "model.save(model_dir) "
   ]
  },
  {
   "cell_type": "code",
   "execution_count": 2,
   "metadata": {},
   "outputs": [],
   "source": [
    "import numpy as np\n",
    "\n",
    "BATCH_SIZE = 32\n",
    "\n",
    "dummy_input_batch = np.zeros((BATCH_SIZE, 224, 224, 3))"
   ]
  },
  {
   "cell_type": "code",
   "execution_count": 3,
   "metadata": {},
   "outputs": [],
   "source": [
    "PRECISION = \"FP32\" # Options are \"FP32\", \"FP16\", or \"INT8\""
   ]
  },
  {
   "cell_type": "code",
   "execution_count": 5,
   "metadata": {},
   "outputs": [
    {
     "name": "stdout",
     "output_type": "stream",
     "text": [
      "INFO:tensorflow:Linked TensorRT version: (0, 0, 0)\n",
      "INFO:tensorflow:Loaded TensorRT version: (0, 0, 0)\n"
     ]
    },
    {
     "name": "stderr",
     "output_type": "stream",
     "text": [
      "2022-06-01 10:28:41.148099: I tensorflow/core/platform/cpu_feature_guard.cc:142] This TensorFlow binary is optimized with oneAPI Deep Neural Network Library (oneDNN) to use the following CPU instructions in performance-critical operations:  SSE4.1 SSE4.2 AVX AVX2 FMA\n",
      "To enable them in other operations, rebuild TensorFlow with the appropriate compiler flags.\n",
      "2022-06-01 10:28:42.366953: I tensorflow/core/common_runtime/gpu/gpu_device.cc:1510] Created device /job:localhost/replica:0/task:0/device:GPU:0 with 22302 MB memory:  -> device: 0, name: NVIDIA GeForce RTX 3090, pci bus id: 0000:02:00.0, compute capability: 8.6\n",
      "2022-06-01 10:28:42.368525: I tensorflow/core/common_runtime/gpu/gpu_device.cc:1510] Created device /job:localhost/replica:0/task:0/device:GPU:1 with 22302 MB memory:  -> device: 1, name: NVIDIA GeForce RTX 3090, pci bus id: 0000:82:00.0, compute capability: 8.6\n",
      "2022-06-01 10:28:49.111567: I tensorflow/core/grappler/devices.cc:66] Number of eligible GPUs (core count >= 8, compute capability >= 0.0): 2\n",
      "2022-06-01 10:28:49.111915: I tensorflow/core/grappler/clusters/single_machine.cc:357] Starting new session\n",
      "2022-06-01 10:28:49.118241: I tensorflow/core/common_runtime/gpu/gpu_device.cc:1510] Created device /job:localhost/replica:0/task:0/device:GPU:0 with 22302 MB memory:  -> device: 0, name: NVIDIA GeForce RTX 3090, pci bus id: 0000:02:00.0, compute capability: 8.6\n",
      "2022-06-01 10:28:49.119358: I tensorflow/core/common_runtime/gpu/gpu_device.cc:1510] Created device /job:localhost/replica:0/task:0/device:GPU:1 with 22302 MB memory:  -> device: 1, name: NVIDIA GeForce RTX 3090, pci bus id: 0000:82:00.0, compute capability: 8.6\n",
      "2022-06-01 10:28:49.188356: I tensorflow/core/grappler/optimizers/meta_optimizer.cc:1137] Optimization results for grappler item: graph_to_optimize\n",
      "  function_optimizer: Graph size after: 1202 nodes (878), 1857 edges (1533), time = 25.932ms.\n",
      "  function_optimizer: function_optimizer did nothing. time = 1.371ms.\n",
      "\n",
      "2022-06-01 10:28:51.851022: I tensorflow/core/grappler/devices.cc:66] Number of eligible GPUs (core count >= 8, compute capability >= 0.0): 2\n",
      "2022-06-01 10:28:51.851144: I tensorflow/core/grappler/clusters/single_machine.cc:357] Starting new session\n",
      "2022-06-01 10:28:51.857594: I tensorflow/core/common_runtime/gpu/gpu_device.cc:1510] Created device /job:localhost/replica:0/task:0/device:GPU:0 with 22302 MB memory:  -> device: 0, name: NVIDIA GeForce RTX 3090, pci bus id: 0000:02:00.0, compute capability: 8.6\n",
      "2022-06-01 10:28:51.858785: I tensorflow/core/common_runtime/gpu/gpu_device.cc:1510] Created device /job:localhost/replica:0/task:0/device:GPU:1 with 22302 MB memory:  -> device: 1, name: NVIDIA GeForce RTX 3090, pci bus id: 0000:82:00.0, compute capability: 8.6\n",
      "2022-06-01 10:28:53.028231: I tensorflow/core/grappler/optimizers/meta_optimizer.cc:1137] Optimization results for grappler item: tf_graph\n",
      "  constant_folding: Graph size after: 562 nodes (-640), 1217 edges (-640), time = 578.649ms.\n",
      "  layout: Graph size after: 566 nodes (4), 1221 edges (4), time = 157.806ms.\n",
      "  constant_folding: Graph size after: 564 nodes (-2), 1219 edges (-2), time = 119.038ms.\n",
      "  constant_folding: Graph size after: 564 nodes (0), 1219 edges (0), time = 68.693ms.\n",
      "\n"
     ]
    },
    {
     "name": "stdout",
     "output_type": "stream",
     "text": [
      "INFO:tensorflow:Assets written to: data/resnet50_saved_model_FP32/assets\n"
     ]
    }
   ],
   "source": [
    "from trt_help import ModelOptimizer # using the helper from <URL>\n",
    "\n",
    "model_dir = 'data/resnet50_saved_model'\n",
    "\n",
    "opt_model = ModelOptimizer(model_dir)\n",
    "model_fp32 = opt_model.convert(model_dir+'_FP32', precision=PRECISION)"
   ]
  },
  {
   "cell_type": "code",
   "execution_count": 6,
   "metadata": {},
   "outputs": [
    {
     "name": "stderr",
     "output_type": "stream",
     "text": [
      "2022-06-01 11:51:30.868472: I tensorflow/compiler/mlir/mlir_graph_optimization_pass.cc:185] None of the MLIR Optimization Passes are enabled (registered 2)\n",
      "2022-06-01 11:51:33.736676: I tensorflow/stream_executor/cuda/cuda_dnn.cc:369] Loaded cuDNN version 8204\n",
      "2022-06-01 11:51:35.161702: I tensorflow/core/platform/default/subprocess.cc:304] Start cannot spawn child process: No such file or directory\n",
      "2022-06-01 11:51:36.674890: I tensorflow/stream_executor/cuda/cuda_blas.cc:1760] TensorFloat-32 will be used for the matrix multiplication. This will only be logged once.\n"
     ]
    },
    {
     "data": {
      "text/plain": [
       "array([[1.6970110e-04, 3.2997524e-04, 6.1348408e-05, ..., 1.4625140e-05,\n",
       "        1.4453841e-04, 6.6052313e-04],\n",
       "       [1.6970110e-04, 3.2997524e-04, 6.1348408e-05, ..., 1.4625140e-05,\n",
       "        1.4453841e-04, 6.6052313e-04],\n",
       "       [1.6970110e-04, 3.2997524e-04, 6.1348408e-05, ..., 1.4625140e-05,\n",
       "        1.4453841e-04, 6.6052313e-04],\n",
       "       ...,\n",
       "       [1.6970110e-04, 3.2997524e-04, 6.1348408e-05, ..., 1.4625140e-05,\n",
       "        1.4453841e-04, 6.6052313e-04],\n",
       "       [1.6970110e-04, 3.2997524e-04, 6.1348408e-05, ..., 1.4625140e-05,\n",
       "        1.4453841e-04, 6.6052313e-04],\n",
       "       [1.6970110e-04, 3.2997524e-04, 6.1348408e-05, ..., 1.4625140e-05,\n",
       "        1.4453841e-04, 6.6052313e-04]], dtype=float32)"
      ]
     },
     "execution_count": 6,
     "metadata": {},
     "output_type": "execute_result"
    }
   ],
   "source": [
    "model_fp32.predict(dummy_input_batch)"
   ]
  },
  {
   "cell_type": "code",
   "execution_count": 9,
   "metadata": {},
   "outputs": [
    {
     "data": {
      "text/plain": [
       "array([[1.6970110e-04, 3.2997524e-04, 6.1348408e-05, ..., 1.4625140e-05,\n",
       "        1.4453841e-04, 6.6052313e-04],\n",
       "       [1.6970110e-04, 3.2997524e-04, 6.1348408e-05, ..., 1.4625140e-05,\n",
       "        1.4453841e-04, 6.6052313e-04],\n",
       "       [1.6970110e-04, 3.2997524e-04, 6.1348408e-05, ..., 1.4625140e-05,\n",
       "        1.4453841e-04, 6.6052313e-04],\n",
       "       ...,\n",
       "       [1.6970110e-04, 3.2997524e-04, 6.1348408e-05, ..., 1.4625140e-05,\n",
       "        1.4453841e-04, 6.6052313e-04],\n",
       "       [1.6970110e-04, 3.2997524e-04, 6.1348408e-05, ..., 1.4625140e-05,\n",
       "        1.4453841e-04, 6.6052313e-04],\n",
       "       [1.6970110e-04, 3.2997524e-04, 6.1348408e-05, ..., 1.4625140e-05,\n",
       "        1.4453841e-04, 6.6052313e-04]], dtype=float32)"
      ]
     },
     "execution_count": 9,
     "metadata": {},
     "output_type": "execute_result"
    }
   ],
   "source": [
    "# Warm up - the first batch through a model generally takes longer\n",
    "model.predict(dummy_input_batch)\n",
    "model_fp32.predict(dummy_input_batch)"
   ]
  },
  {
   "cell_type": "code",
   "execution_count": 10,
   "metadata": {},
   "outputs": [
    {
     "name": "stdout",
     "output_type": "stream",
     "text": [
      "46.5 ms ± 679 µs per loop (mean ± std. dev. of 7 runs, 1 loop each)\n"
     ]
    }
   ],
   "source": [
    "%%timeit\n",
    "\n",
    "model.predict_on_batch(dummy_input_batch)"
   ]
  },
  {
   "cell_type": "code",
   "execution_count": 11,
   "metadata": {},
   "outputs": [
    {
     "name": "stdout",
     "output_type": "stream",
     "text": [
      "28.8 ms ± 73.3 µs per loop (mean ± std. dev. of 7 runs, 10 loops each)\n"
     ]
    }
   ],
   "source": [
    "%%timeit\n",
    "\n",
    "model_fp32.predict(dummy_input_batch)"
   ]
  },
  {
   "cell_type": "code",
   "execution_count": 12,
   "metadata": {},
   "outputs": [
    {
     "name": "stdout",
     "output_type": "stream",
     "text": [
      "INFO:tensorflow:Linked TensorRT version: (0, 0, 0)\n",
      "INFO:tensorflow:Loaded TensorRT version: (0, 0, 0)\n"
     ]
    },
    {
     "name": "stderr",
     "output_type": "stream",
     "text": [
      "2022-06-01 11:52:54.188819: I tensorflow/core/grappler/devices.cc:66] Number of eligible GPUs (core count >= 8, compute capability >= 0.0): 2\n",
      "2022-06-01 11:52:54.188922: I tensorflow/core/grappler/clusters/single_machine.cc:357] Starting new session\n",
      "2022-06-01 11:52:54.195377: I tensorflow/core/common_runtime/gpu/gpu_device.cc:1510] Created device /job:localhost/replica:0/task:0/device:GPU:0 with 22302 MB memory:  -> device: 0, name: NVIDIA GeForce RTX 3090, pci bus id: 0000:02:00.0, compute capability: 8.6\n",
      "2022-06-01 11:52:54.196487: I tensorflow/core/common_runtime/gpu/gpu_device.cc:1510] Created device /job:localhost/replica:0/task:0/device:GPU:1 with 22302 MB memory:  -> device: 1, name: NVIDIA GeForce RTX 3090, pci bus id: 0000:82:00.0, compute capability: 8.6\n",
      "2022-06-01 11:52:54.243294: I tensorflow/core/grappler/optimizers/meta_optimizer.cc:1137] Optimization results for grappler item: graph_to_optimize\n",
      "  function_optimizer: Graph size after: 1202 nodes (878), 1857 edges (1533), time = 26.853ms.\n",
      "  function_optimizer: function_optimizer did nothing. time = 1.436ms.\n",
      "\n",
      "2022-06-01 11:52:56.252805: I tensorflow/core/grappler/devices.cc:66] Number of eligible GPUs (core count >= 8, compute capability >= 0.0): 2\n",
      "2022-06-01 11:52:56.252916: I tensorflow/core/grappler/clusters/single_machine.cc:357] Starting new session\n",
      "2022-06-01 11:52:56.259528: I tensorflow/core/common_runtime/gpu/gpu_device.cc:1510] Created device /job:localhost/replica:0/task:0/device:GPU:0 with 22302 MB memory:  -> device: 0, name: NVIDIA GeForce RTX 3090, pci bus id: 0000:02:00.0, compute capability: 8.6\n",
      "2022-06-01 11:52:56.260684: I tensorflow/core/common_runtime/gpu/gpu_device.cc:1510] Created device /job:localhost/replica:0/task:0/device:GPU:1 with 22302 MB memory:  -> device: 1, name: NVIDIA GeForce RTX 3090, pci bus id: 0000:82:00.0, compute capability: 8.6\n",
      "2022-06-01 11:52:57.497903: I tensorflow/core/grappler/optimizers/meta_optimizer.cc:1137] Optimization results for grappler item: tf_graph\n",
      "  constant_folding: Graph size after: 562 nodes (-640), 1217 edges (-640), time = 579.424ms.\n",
      "  layout: Graph size after: 566 nodes (4), 1221 edges (4), time = 176.076ms.\n",
      "  constant_folding: Graph size after: 564 nodes (-2), 1219 edges (-2), time = 132.643ms.\n",
      "  constant_folding: Graph size after: 564 nodes (0), 1219 edges (0), time = 75.178ms.\n",
      "\n"
     ]
    },
    {
     "name": "stdout",
     "output_type": "stream",
     "text": [
      "INFO:tensorflow:Assets written to: data/resnet50_saved_model_FP16/assets\n"
     ]
    },
    {
     "data": {
      "text/plain": [
       "array([[1.6970110e-04, 3.2997524e-04, 6.1348408e-05, ..., 1.4625140e-05,\n",
       "        1.4453841e-04, 6.6052313e-04],\n",
       "       [1.6970110e-04, 3.2997524e-04, 6.1348408e-05, ..., 1.4625140e-05,\n",
       "        1.4453841e-04, 6.6052313e-04],\n",
       "       [1.6970110e-04, 3.2997524e-04, 6.1348408e-05, ..., 1.4625140e-05,\n",
       "        1.4453841e-04, 6.6052313e-04],\n",
       "       ...,\n",
       "       [1.6970110e-04, 3.2997524e-04, 6.1348408e-05, ..., 1.4625140e-05,\n",
       "        1.4453841e-04, 6.6052313e-04],\n",
       "       [1.6970110e-04, 3.2997524e-04, 6.1348408e-05, ..., 1.4625140e-05,\n",
       "        1.4453841e-04, 6.6052313e-04],\n",
       "       [1.6970110e-04, 3.2997524e-04, 6.1348408e-05, ..., 1.4625140e-05,\n",
       "        1.4453841e-04, 6.6052313e-04]], dtype=float32)"
      ]
     },
     "execution_count": 12,
     "metadata": {},
     "output_type": "execute_result"
    }
   ],
   "source": [
    "model_fp16 = opt_model.convert(model_dir+'_FP16', precision=\"FP16\")\n",
    "\n",
    "model_fp16.predict(dummy_input_batch)"
   ]
  },
  {
   "cell_type": "code",
   "execution_count": 14,
   "metadata": {},
   "outputs": [
    {
     "name": "stdout",
     "output_type": "stream",
     "text": [
      "29.1 ms ± 167 µs per loop (mean ± std. dev. of 7 runs, 10 loops each)\n"
     ]
    }
   ],
   "source": [
    "%%timeit\n",
    "\n",
    "model_fp16.predict(dummy_input_batch)"
   ]
  },
  {
   "cell_type": "code",
   "execution_count": 15,
   "metadata": {},
   "outputs": [],
   "source": [
    "dummy_calibration_batch = np.zeros((8, 224, 224, 3))\n",
    "\n",
    "opt_model.set_calibration_data(dummy_calibration_batch)"
   ]
  },
  {
   "cell_type": "code",
   "execution_count": 16,
   "metadata": {},
   "outputs": [
    {
     "name": "stdout",
     "output_type": "stream",
     "text": [
      "INFO:tensorflow:Linked TensorRT version: (0, 0, 0)\n",
      "INFO:tensorflow:Loaded TensorRT version: (0, 0, 0)\n"
     ]
    },
    {
     "name": "stderr",
     "output_type": "stream",
     "text": [
      "2022-06-01 11:54:17.504750: I tensorflow/core/grappler/devices.cc:66] Number of eligible GPUs (core count >= 8, compute capability >= 0.0): 2\n",
      "2022-06-01 11:54:17.504851: I tensorflow/core/grappler/clusters/single_machine.cc:357] Starting new session\n",
      "2022-06-01 11:54:17.511255: I tensorflow/core/common_runtime/gpu/gpu_device.cc:1510] Created device /job:localhost/replica:0/task:0/device:GPU:0 with 22302 MB memory:  -> device: 0, name: NVIDIA GeForce RTX 3090, pci bus id: 0000:02:00.0, compute capability: 8.6\n",
      "2022-06-01 11:54:17.512365: I tensorflow/core/common_runtime/gpu/gpu_device.cc:1510] Created device /job:localhost/replica:0/task:0/device:GPU:1 with 22302 MB memory:  -> device: 1, name: NVIDIA GeForce RTX 3090, pci bus id: 0000:82:00.0, compute capability: 8.6\n",
      "2022-06-01 11:54:17.547385: I tensorflow/core/grappler/optimizers/meta_optimizer.cc:1137] Optimization results for grappler item: graph_to_optimize\n",
      "  function_optimizer: Graph size after: 1202 nodes (878), 1857 edges (1533), time = 22.099ms.\n",
      "  function_optimizer: function_optimizer did nothing. time = 0.308ms.\n",
      "\n",
      "2022-06-01 11:54:19.779469: I tensorflow/core/grappler/devices.cc:66] Number of eligible GPUs (core count >= 8, compute capability >= 0.0): 2\n",
      "2022-06-01 11:54:19.779585: I tensorflow/core/grappler/clusters/single_machine.cc:357] Starting new session\n",
      "2022-06-01 11:54:19.785943: I tensorflow/core/common_runtime/gpu/gpu_device.cc:1510] Created device /job:localhost/replica:0/task:0/device:GPU:0 with 22302 MB memory:  -> device: 0, name: NVIDIA GeForce RTX 3090, pci bus id: 0000:02:00.0, compute capability: 8.6\n",
      "2022-06-01 11:54:19.787149: I tensorflow/core/common_runtime/gpu/gpu_device.cc:1510] Created device /job:localhost/replica:0/task:0/device:GPU:1 with 22302 MB memory:  -> device: 1, name: NVIDIA GeForce RTX 3090, pci bus id: 0000:82:00.0, compute capability: 8.6\n",
      "2022-06-01 11:54:21.078139: I tensorflow/core/grappler/optimizers/meta_optimizer.cc:1137] Optimization results for grappler item: tf_graph\n",
      "  constant_folding: Graph size after: 562 nodes (-640), 1217 edges (-640), time = 602.938ms.\n",
      "  layout: Graph size after: 566 nodes (4), 1221 edges (4), time = 189.832ms.\n",
      "  constant_folding: Graph size after: 564 nodes (-2), 1219 edges (-2), time = 139.55ms.\n",
      "  constant_folding: Graph size after: 564 nodes (0), 1219 edges (0), time = 83.786ms.\n",
      "\n"
     ]
    },
    {
     "name": "stdout",
     "output_type": "stream",
     "text": [
      "INFO:tensorflow:Assets written to: data/resnet50_saved_model_INT8/assets\n"
     ]
    },
    {
     "data": {
      "text/plain": [
       "array([[1.6970110e-04, 3.2997524e-04, 6.1348408e-05, ..., 1.4625140e-05,\n",
       "        1.4453841e-04, 6.6052313e-04],\n",
       "       [1.6970110e-04, 3.2997524e-04, 6.1348408e-05, ..., 1.4625140e-05,\n",
       "        1.4453841e-04, 6.6052313e-04],\n",
       "       [1.6970110e-04, 3.2997524e-04, 6.1348408e-05, ..., 1.4625140e-05,\n",
       "        1.4453841e-04, 6.6052313e-04],\n",
       "       ...,\n",
       "       [1.6970110e-04, 3.2997524e-04, 6.1348408e-05, ..., 1.4625140e-05,\n",
       "        1.4453841e-04, 6.6052313e-04],\n",
       "       [1.6970110e-04, 3.2997524e-04, 6.1348408e-05, ..., 1.4625140e-05,\n",
       "        1.4453841e-04, 6.6052313e-04],\n",
       "       [1.6970110e-04, 3.2997524e-04, 6.1348408e-05, ..., 1.4625140e-05,\n",
       "        1.4453841e-04, 6.6052313e-04]], dtype=float32)"
      ]
     },
     "execution_count": 16,
     "metadata": {},
     "output_type": "execute_result"
    }
   ],
   "source": [
    "model_int8 = opt_model.convert(model_dir+'_INT8', precision=\"INT8\")\n",
    "\n",
    "model_int8.predict(dummy_input_batch)"
   ]
  },
  {
   "cell_type": "code",
   "execution_count": 17,
   "metadata": {},
   "outputs": [
    {
     "name": "stdout",
     "output_type": "stream",
     "text": [
      "36.1 ms ± 137 µs per loop (mean ± std. dev. of 7 runs, 10 loops each)\n"
     ]
    },
    {
     "ename": "",
     "evalue": "",
     "output_type": "error",
     "traceback": [
      "\u001b[1;31mThe Kernel crashed while executing code in the the current cell or a previous cell. Please review the code in the cell(s) to identify a possible cause of the failure. Click <a href='https://aka.ms/vscodeJupyterKernelCrash'>here</a> for more info. View Jupyter <a href='command:jupyter.viewOutput'>log</a> for further details."
     ]
    }
   ],
   "source": [
    "%%timeit\n",
    "\n",
    "model_int8.predict(dummy_input_batch)"
   ]
  }
 ],
 "metadata": {
  "interpreter": {
   "hash": "677c2eaafc4222741682c8c832f1f8254c8c8e2f366c4e8e641253ebecc1b308"
  },
  "kernelspec": {
   "display_name": "Python 3.9.12 ('tf27')",
   "language": "python",
   "name": "python3"
  },
  "language_info": {
   "codemirror_mode": {
    "name": "ipython",
    "version": 3
   },
   "file_extension": ".py",
   "mimetype": "text/x-python",
   "name": "python",
   "nbconvert_exporter": "python",
   "pygments_lexer": "ipython3",
   "version": "3.9.12"
  },
  "orig_nbformat": 4
 },
 "nbformat": 4,
 "nbformat_minor": 2
}
