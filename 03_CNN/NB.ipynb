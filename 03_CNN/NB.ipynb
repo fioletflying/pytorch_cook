{
 "cells": [
  {
   "cell_type": "code",
   "execution_count": 1,
   "metadata": {},
   "outputs": [],
   "source": [
    "import torch\n",
    "from torch import nn\n",
    "from torchvision import datasets,transforms\n",
    "from torch.utils.data import DataLoader\n",
    "from torch import optim\n",
    "import time\n",
    "import util_fei"
   ]
  },
  {
   "cell_type": "code",
   "execution_count": 3,
   "metadata": {},
   "outputs": [],
   "source": [
    "def batch_norm(X, gamma, beta, moving_mean, moving_var, eps, momentum):\n",
    "    if not torch.is_grad_enabled():\n",
    "        X_hat = (X - moving_mean) / torch.sqrt(moving_var + eps)\n",
    "    else:\n",
    "        assert len(X.shape) in (2,4)\n",
    "        if len(X.shape) == 2:\n",
    "            # 这里是计算特征维度的均值，而并不是自己理解的批量的维度\n",
    "            mean = X.mean(dim=0)\n",
    "            var = ((X - mean) ** 2).mean(dim=0)\n",
    "        else:\n",
    "            # 计算通道维度的均值，同时将形状保持不变\n",
    "            mean = X.mean(dim=(0,2,3), keepdim=True)\n",
    "            var = ((X-mean) ** 2).mean(dim=(0,2,3), keepdim=True)\n",
    "        X_hat = (X - mean) / torch.sqrt(var + eps)\n",
    "\n",
    "        moving_mean = momentum * moving_mean + (1.0 - momentum) * mean\n",
    "        moving_var = momentum * moving_var + (1.0 - momentum) * var\n",
    "    \n",
    "    Y = gamma * X_hat + beta\n",
    "\n",
    "    return Y, moving_mean.data, moving_var.data"
   ]
  },
  {
   "cell_type": "code",
   "execution_count": 4,
   "metadata": {},
   "outputs": [],
   "source": [
    "class BatchNorm(nn.Module):\n",
    "    def __init__(self, num_features, num_dims):\n",
    "        super().__init__()\n",
    "        if num_dims == 2:\n",
    "            shape = (1, num_features)\n",
    "        else:\n",
    "            shape = (1, num_features, 1, 1)\n",
    "        \n",
    "        self.gamma = nn.Parameter(torch.ones(shape))\n",
    "        self.beta = nn.Parameter(torch.zeros(shape))\n",
    "\n",
    "        self.moving_mean = torch.zeros(shape)\n",
    "        self.moving_var = torch.ones(shape)\n",
    "\n",
    "    def forward(self, X):\n",
    "        if self.moving_mean.device != X.device:\n",
    "            self.moving_mean = self.moving_mean.to(X.device)\n",
    "            self.moving_var = self.moving_var.to(X.device)\n",
    "\n",
    "        Y, self.moving_mean, self.moving_var = batch_norm(\n",
    "            X, self.gamma, self.beta, self.moving_mean, self.moving_var,\n",
    "            eps=1e-5, momentum=0.9)\n",
    "\n",
    "        return Y"
   ]
  },
  {
   "cell_type": "code",
   "execution_count": 19,
   "metadata": {},
   "outputs": [],
   "source": [
    "training_data = datasets.FashionMNIST(\n",
    "    root=\"data\",\n",
    "    train=True,\n",
    "    download=False,\n",
    "    transform= transforms.Compose([\n",
    "                    # transforms.Resize(224),\n",
    "                    transforms.ToTensor()])\n",
    ")\n",
    "\n",
    "# Download test data from open datasets.\n",
    "test_data = datasets.FashionMNIST(\n",
    "    root=\"data\",\n",
    "    train=False,\n",
    "    download=False,\n",
    "    transform=transforms.Compose([\n",
    "        # transforms.Resize(224),\n",
    "        transforms.ToTensor()])\n",
    ")\n",
    "\n",
    "batch_size = 256\n",
    "\n",
    "# Create data loaders.\n",
    "train_dataloader = DataLoader(training_data, batch_size=batch_size)\n",
    "test_dataloader = DataLoader(test_data, batch_size=batch_size)\n",
    "\n",
    "device = torch.device(\"cuda:0\" if torch.cuda.is_available() else \"cpu\")\n",
    "\n"
   ]
  },
  {
   "cell_type": "code",
   "execution_count": 7,
   "metadata": {},
   "outputs": [],
   "source": [
    "net = nn.Sequential(\n",
    "    nn.Conv2d(1, 6, kernel_size=5), BatchNorm(6, num_dims=4), nn.Sigmoid(),\n",
    "    nn.AvgPool2d(kernel_size=2, stride=2),\n",
    "    nn.Conv2d(6, 16, kernel_size=5), BatchNorm(16, num_dims=4), nn.Sigmoid(),\n",
    "    nn.AvgPool2d(kernel_size=2, stride=2), nn.Flatten(),\n",
    "    nn.Linear(16*4*4, 120), BatchNorm(120, num_dims=2), nn.Sigmoid(),\n",
    "    nn.Linear(120, 84), BatchNorm(84, num_dims=2), nn.Sigmoid(),\n",
    "    nn.Linear(84, 10))"
   ]
  },
  {
   "cell_type": "code",
   "execution_count": 17,
   "metadata": {},
   "outputs": [
    {
     "name": "stdout",
     "output_type": "stream",
     "text": [
      "Conv2d output shape:\t torch.Size([1, 6, 24, 24])\n",
      "BatchNorm output shape:\t torch.Size([1, 6, 24, 24])\n",
      "Sigmoid output shape:\t torch.Size([1, 6, 24, 24])\n",
      "AvgPool2d output shape:\t torch.Size([1, 6, 12, 12])\n",
      "Conv2d output shape:\t torch.Size([1, 16, 8, 8])\n",
      "BatchNorm output shape:\t torch.Size([1, 16, 8, 8])\n",
      "Sigmoid output shape:\t torch.Size([1, 16, 8, 8])\n",
      "AvgPool2d output shape:\t torch.Size([1, 16, 4, 4])\n",
      "Flatten output shape:\t torch.Size([1, 256])\n",
      "Linear output shape:\t torch.Size([1, 120])\n",
      "BatchNorm output shape:\t torch.Size([1, 120])\n",
      "Sigmoid output shape:\t torch.Size([1, 120])\n",
      "Linear output shape:\t torch.Size([1, 84])\n",
      "BatchNorm output shape:\t torch.Size([1, 84])\n",
      "Sigmoid output shape:\t torch.Size([1, 84])\n",
      "Linear output shape:\t torch.Size([1, 10])\n"
     ]
    }
   ],
   "source": [
    "class LenNet(nn.Module):\n",
    "    def __init__(self):\n",
    "        super(LenNet, self).__init__()\n",
    "        self.backbone_net = nn.Sequential(\n",
    "            nn.Conv2d(1, 6, kernel_size=5),\n",
    "            BatchNorm(6, num_dims=4),\n",
    "            nn.Sigmoid(),\n",
    "            nn.AvgPool2d(kernel_size=2, stride=2),\n",
    "            nn.Conv2d(6, 16, kernel_size=5),\n",
    "            BatchNorm(16, num_dims=4),\n",
    "            nn.Sigmoid(),\n",
    "            nn.AvgPool2d(kernel_size=2, stride=2),\n",
    "            nn.Flatten(),\n",
    "            nn.Linear(16*4*4,120),\n",
    "            BatchNorm(120, num_dims=2),\n",
    "            nn.Sigmoid(),\n",
    "            nn.Linear(120,84),\n",
    "            BatchNorm(84, num_dims=2),\n",
    "            nn.Sigmoid(),\n",
    "            nn.Linear(84, 10)\n",
    "        )\n",
    "\n",
    "    def forward(self, X):\n",
    "        logits = self.backbone_net(X)\n",
    "        return logits\n",
    "\n",
    "model = LenNet()\n",
    "# print(model)\n",
    "\n",
    "X = torch.randn(size=(1, 1, 28, 28))\n",
    "\n",
    "for blk in model.backbone_net:\n",
    "    X = blk(X)\n",
    "    print(blk.__class__.__name__,'output shape:\\t',X.shape)"
   ]
  },
  {
   "cell_type": "code",
   "execution_count": 18,
   "metadata": {},
   "outputs": [
    {
     "name": "stdout",
     "output_type": "stream",
     "text": [
      "training on  cuda:0\n",
      "epoch: 1,\t                train_loss: 0.736100,\t                train_correct:0.731583,\t                test_correct:0.536500,\t                test time:10.977388\n",
      "epoch: 2,\t                train_loss: 0.473468,\t                train_correct:0.825517,\t                test_correct:0.695600,\t                test time:9.044344\n",
      "epoch: 3,\t                train_loss: 0.405161,\t                train_correct:0.851300,\t                test_correct:0.793000,\t                test time:9.014734\n",
      "epoch: 4,\t                train_loss: 0.361974,\t                train_correct:0.866467,\t                test_correct:0.779600,\t                test time:8.998656\n",
      "epoch: 5,\t                train_loss: 0.333811,\t                train_correct:0.877133,\t                test_correct:0.770100,\t                test time:9.049407\n",
      "epoch: 6,\t                train_loss: 0.313243,\t                train_correct:0.884183,\t                test_correct:0.777500,\t                test time:10.352089\n",
      "epoch: 7,\t                train_loss: 0.297183,\t                train_correct:0.890133,\t                test_correct:0.791000,\t                test time:8.974587\n",
      "epoch: 8,\t                train_loss: 0.283744,\t                train_correct:0.894983,\t                test_correct:0.798500,\t                test time:8.991671\n",
      "epoch: 9,\t                train_loss: 0.272389,\t                train_correct:0.899333,\t                test_correct:0.804200,\t                test time:9.010807\n",
      "epoch: 10,\t                train_loss: 0.262351,\t                train_correct:0.903200,\t                test_correct:0.800800,\t                test time:9.041898\n"
     ]
    }
   ],
   "source": [
    "model = LenNet().to(device)\n",
    "creterion = torch.nn.CrossEntropyLoss()\n",
    "optimizer = optim.SGD(model.parameters(), lr=1)\n",
    "\n",
    "epoch_nums = 10\n",
    "\n",
    "util_fei.train_model(model, train_dataloader, test_dataloader,creterion, optimizer,device, epoch_num=epoch_nums)"
   ]
  },
  {
   "cell_type": "code",
   "execution_count": 32,
   "metadata": {},
   "outputs": [
    {
     "name": "stdout",
     "output_type": "stream",
     "text": [
      "Conv2d output shape:\t torch.Size([2, 6, 24, 24])\n",
      "BatchNorm2d output shape:\t torch.Size([2, 6, 24, 24])\n",
      "Sigmoid output shape:\t torch.Size([2, 6, 24, 24])\n",
      "AvgPool2d output shape:\t torch.Size([2, 6, 12, 12])\n",
      "Conv2d output shape:\t torch.Size([2, 16, 8, 8])\n",
      "BatchNorm2d output shape:\t torch.Size([2, 16, 8, 8])\n",
      "Sigmoid output shape:\t torch.Size([2, 16, 8, 8])\n",
      "AvgPool2d output shape:\t torch.Size([2, 16, 4, 4])\n",
      "Flatten output shape:\t torch.Size([2, 256])\n",
      "Linear output shape:\t torch.Size([2, 120])\n",
      "BatchNorm1d output shape:\t torch.Size([2, 120])\n",
      "Sigmoid output shape:\t torch.Size([2, 120])\n",
      "Linear output shape:\t torch.Size([2, 84])\n",
      "BatchNorm1d output shape:\t torch.Size([2, 84])\n",
      "Sigmoid output shape:\t torch.Size([2, 84])\n",
      "Linear output shape:\t torch.Size([2, 10])\n"
     ]
    }
   ],
   "source": [
    "#使用框架的\n",
    "class LenNet2(nn.Module):\n",
    "    def __init__(self):\n",
    "        super(LenNet2, self).__init__()\n",
    "        self.backbone_net = nn.Sequential(\n",
    "            nn.Conv2d(1, 6, kernel_size=5),\n",
    "            nn.BatchNorm2d(6),\n",
    "            nn.Sigmoid(),\n",
    "            nn.AvgPool2d(kernel_size=2, stride=2),\n",
    "            nn.Conv2d(6, 16, kernel_size=5),\n",
    "            nn.BatchNorm2d(16),\n",
    "            nn.Sigmoid(),\n",
    "            nn.AvgPool2d(kernel_size=2, stride=2),\n",
    "            nn.Flatten(),\n",
    "            nn.Linear(16*4*4,120),\n",
    "            nn.BatchNorm1d(120),\n",
    "            nn.Sigmoid(),\n",
    "            nn.Linear(120,84),\n",
    "            nn.BatchNorm1d(84),\n",
    "            nn.Sigmoid(),\n",
    "            nn.Linear(84, 10)\n",
    "        )\n",
    "\n",
    "    def forward(self, X):\n",
    "        logits = self.backbone_net(X)\n",
    "        return logits\n",
    "\n",
    "model = LenNet2()\n",
    "# print(model)\n",
    "\n",
    "X = torch.randn(size=(2, 1, 28, 28))\n",
    "\n",
    "for blk in model.backbone_net:\n",
    "    X = blk(X)\n",
    "    print(blk.__class__.__name__,'output shape:\\t',X.shape)"
   ]
  },
  {
   "cell_type": "code",
   "execution_count": null,
   "metadata": {},
   "outputs": [],
   "source": [
    "model = LenNet2().to(device)\n",
    "creterion = torch.nn.CrossEntropyLoss()\n",
    "optimizer = optim.SGD(model.parameters(), lr=1)\n",
    "\n",
    "epoch_nums = 10\n",
    "\n",
    "util_fei.train_model(model, train_dataloader, test_dataloader,creterion, optimizer,device, epoch_num=epoch_nums)"
   ]
  },
  {
   "cell_type": "code",
   "execution_count": null,
   "metadata": {},
   "outputs": [],
   "source": []
  }
 ],
 "metadata": {
  "interpreter": {
   "hash": "d4d1e4263499bec80672ea0156c357c1ee493ec2b1c70f0acce89fc37c4a6abe"
  },
  "kernelspec": {
   "display_name": "Python 3.7.10 ('base')",
   "language": "python",
   "name": "python3"
  },
  "language_info": {
   "codemirror_mode": {
    "name": "ipython",
    "version": 3
   },
   "file_extension": ".py",
   "mimetype": "text/x-python",
   "name": "python",
   "nbconvert_exporter": "python",
   "pygments_lexer": "ipython3",
   "version": "3.7.10"
  },
  "orig_nbformat": 4
 },
 "nbformat": 4,
 "nbformat_minor": 2
}
