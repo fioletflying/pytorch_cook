{
 "cells": [
  {
   "cell_type": "code",
   "execution_count": 1,
   "metadata": {},
   "outputs": [],
   "source": [
    "import torch\n",
    "from torch import nn\n",
    "from torchvision import datasets\n",
    "from torch.utils.data import DataLoader\n",
    "from torchvision.transforms import ToTensor\n",
    "from torch import optim\n",
    "import time"
   ]
  },
  {
   "cell_type": "code",
   "execution_count": 2,
   "metadata": {},
   "outputs": [
    {
     "name": "stdout",
     "output_type": "stream",
     "text": [
      "cuda:0\n"
     ]
    }
   ],
   "source": [
    "device = torch.device(\"cuda:0\" if torch.cuda.is_available() else \"cpu\")\n",
    "print(device)"
   ]
  },
  {
   "cell_type": "code",
   "execution_count": 3,
   "metadata": {},
   "outputs": [],
   "source": [
    "# 模型的构建\n",
    "lenet = nn.Sequential(\n",
    "    nn.Conv2d(1,6,kernel_size=5, padding=2),\n",
    "    nn.Sigmoid(),\n",
    "    nn.AvgPool2d(kernel_size=2, stride=2),\n",
    "    nn.Conv2d(6, 16, kernel_size=5),\n",
    "    nn.Sigmoid(),\n",
    "    nn.AvgPool2d(kernel_size=2, stride=2),\n",
    "    nn.Flatten(),\n",
    "    nn.Linear(16 * 5 * 5, 120),\n",
    "    nn.Sigmoid(),\n",
    "    nn.Linear(120,84),\n",
    "    nn.Sigmoid(),\n",
    "    nn.Linear(84,10)\n",
    ")"
   ]
  },
  {
   "cell_type": "code",
   "execution_count": 16,
   "metadata": {},
   "outputs": [
    {
     "name": "stdout",
     "output_type": "stream",
     "text": [
      "Conv2d output shape: \t torch.Size([1, 6, 28, 28])\n",
      "Sigmoid output shape: \t torch.Size([1, 6, 28, 28])\n",
      "AvgPool2d output shape: \t torch.Size([1, 6, 14, 14])\n",
      "Conv2d output shape: \t torch.Size([1, 16, 10, 10])\n",
      "Sigmoid output shape: \t torch.Size([1, 16, 10, 10])\n",
      "AvgPool2d output shape: \t torch.Size([1, 16, 5, 5])\n",
      "Flatten output shape: \t torch.Size([1, 400])\n",
      "Linear output shape: \t torch.Size([1, 120])\n",
      "Sigmoid output shape: \t torch.Size([1, 120])\n",
      "Linear output shape: \t torch.Size([1, 84])\n",
      "Sigmoid output shape: \t torch.Size([1, 84])\n",
      "Linear output shape: \t torch.Size([1, 10])\n"
     ]
    }
   ],
   "source": [
    "X = torch.rand(size=(1,1,28,28), dtype=torch.float32)\n",
    "for layer in lenet:\n",
    "    X = layer(X)\n",
    "    print(layer.__class__.__name__, 'output shape: \\t', X.shape)"
   ]
  },
  {
   "cell_type": "code",
   "execution_count": 4,
   "metadata": {},
   "outputs": [
    {
     "name": "stderr",
     "output_type": "stream",
     "text": [
      "/opt/conda/lib/python3.7/site-packages/torchvision/datasets/mnist.py:498: UserWarning: The given NumPy array is not writeable, and PyTorch does not support non-writeable tensors. This means you can write to the underlying (supposedly non-writeable) NumPy array using the tensor. You may want to copy the array to protect its data or make it writeable before converting it to a tensor. This type of warning will be suppressed for the rest of this program. (Triggered internally at  /opt/conda/conda-bld/pytorch_1623448265233/work/torch/csrc/utils/tensor_numpy.cpp:180.)\n",
      "  return torch.from_numpy(parsed.astype(m[2], copy=False)).view(*s)\n"
     ]
    }
   ],
   "source": [
    "training_data = datasets.FashionMNIST(\n",
    "    root=\"data\",\n",
    "    train=True,\n",
    "    download=False,\n",
    "    transform=ToTensor(),\n",
    ")\n",
    "\n",
    "# Download test data from open datasets.\n",
    "test_data = datasets.FashionMNIST(\n",
    "    root=\"data\",\n",
    "    train=False,\n",
    "    download=False,\n",
    "    transform=ToTensor(),\n",
    ")"
   ]
  },
  {
   "cell_type": "code",
   "execution_count": 5,
   "metadata": {},
   "outputs": [],
   "source": [
    "batch_size = 128\n",
    "\n",
    "# Create data loaders.\n",
    "train_dataloader = DataLoader(training_data, batch_size=batch_size)\n",
    "test_dataloader = DataLoader(test_data, batch_size=batch_size)\n"
   ]
  },
  {
   "cell_type": "code",
   "execution_count": 6,
   "metadata": {},
   "outputs": [],
   "source": [
    "def test_model(dataloader, model, loss_fn):\n",
    "    size = len(dataloader.dataset)\n",
    "    num_batchs = len(dataloader)\n",
    "    model.eval()\n",
    "    test_loss, test_correct = 0, 0\n",
    "\n",
    "    with torch.no_grad():\n",
    "        for inputs, targets in dataloader:\n",
    "            inputs, targets = inputs.to(device), targets.to(device)\n",
    "            pred = model(inputs)\n",
    "            test_loss += loss_fn(pred, targets).item()\n",
    "            test_correct += (pred.argmax(1) == targets).type(torch.float).sum().item()\n",
    "    test_loss /= num_batchs\n",
    "    test_correct /= size\n",
    "\n",
    "    return test_loss, test_correct"
   ]
  },
  {
   "cell_type": "code",
   "execution_count": 16,
   "metadata": {},
   "outputs": [],
   "source": [
    "def train_model(model, train_dataloader, test_dataloader,creterion, optimizer, scheduler=None, epoch_num=10):\n",
    "    # 初始化\n",
    "    def init_weights(m):\n",
    "        if type(m) == nn.Linear or type(m) == nn.Conv2d:\n",
    "            nn.init.xavier_uniform(m.weight)\n",
    "    model.apply(init_weights)\n",
    "    print('training on ', device)\n",
    "    model.to(device)\n",
    "\n",
    "    train_size = len(train_dataloader.dataset)\n",
    "    num_batchs = len(train_dataloader)\n",
    "\n",
    "    for epoch in range(epoch_num):\n",
    "        since_time = time.time()\n",
    "        train_loss, train_correct = 0, 0\n",
    "        model.train()\n",
    "        \n",
    "        for batch, (inputs, targets) in enumerate(train_dataloader):\n",
    "            inputs = inputs.to(device)\n",
    "            targets = targets.to(device)\n",
    "            optimizer.zero_grad()\n",
    "\n",
    "            pred = model(inputs)\n",
    "            loss = creterion(pred, targets)\n",
    "\n",
    "            loss.backward()\n",
    "            optimizer.step()\n",
    "\n",
    "            train_loss += loss.item()\n",
    "            train_correct += (pred.argmax(1) == targets).type(torch.float).sum().item()\n",
    "        \n",
    "        end_time = time.time()\n",
    "        train_loss /= num_batchs\n",
    "        train_correct /= train_size\n",
    "        _,test_correct = test_model(test_dataloader, model, creterion)\n",
    "        print(f\"epoch: {epoch+1},\\t\\\n",
    "                train_loss: {train_loss:>3f},\\t\\\n",
    "                train_correct:{train_correct:>3f},\\t\\\n",
    "                test_correct:{test_correct:>3f},\\t\\\n",
    "                test time:{(end_time - since_time):>3f}\")\n",
    "\n",
    "    "
   ]
  },
  {
   "cell_type": "code",
   "execution_count": 17,
   "metadata": {},
   "outputs": [
    {
     "name": "stderr",
     "output_type": "stream",
     "text": [
      "/opt/conda/lib/python3.7/site-packages/ipykernel_launcher.py:5: UserWarning: nn.init.xavier_uniform is now deprecated in favor of nn.init.xavier_uniform_.\n",
      "  \"\"\"\n"
     ]
    },
    {
     "name": "stdout",
     "output_type": "stream",
     "text": [
      "training on  cuda:0\n",
      "epoch: 1,\t                train_loss: 2.160958,\t                train_correct:0.164517,\t                test_correct:0.532300,\t                test time:8.987120\n",
      "epoch: 2,\t                train_loss: 0.895872,\t                train_correct:0.639300,\t                test_correct:0.659900,\t                test time:8.921419\n",
      "epoch: 3,\t                train_loss: 0.650022,\t                train_correct:0.744917,\t                test_correct:0.738800,\t                test time:8.824039\n",
      "epoch: 4,\t                train_loss: 0.553729,\t                train_correct:0.785933,\t                test_correct:0.783000,\t                test time:8.830374\n",
      "epoch: 5,\t                train_loss: 0.494288,\t                train_correct:0.813000,\t                test_correct:0.818300,\t                test time:8.793091\n",
      "epoch: 6,\t                train_loss: 0.455769,\t                train_correct:0.829000,\t                test_correct:0.832900,\t                test time:8.742310\n",
      "epoch: 7,\t                train_loss: 0.428464,\t                train_correct:0.839700,\t                test_correct:0.839500,\t                test time:8.770119\n",
      "epoch: 8,\t                train_loss: 0.407217,\t                train_correct:0.847833,\t                test_correct:0.846300,\t                test time:8.807001\n",
      "epoch: 9,\t                train_loss: 0.389448,\t                train_correct:0.853750,\t                test_correct:0.851400,\t                test time:8.779369\n",
      "epoch: 10,\t                train_loss: 0.374174,\t                train_correct:0.860200,\t                test_correct:0.856300,\t                test time:8.743819\n"
     ]
    }
   ],
   "source": [
    "creterion = torch.nn.CrossEntropyLoss()\n",
    "\n",
    "optimizer = optim.SGD(lenet.parameters(), lr=0.9)\n",
    "\n",
    "epoch_nums = 10\n",
    "\n",
    "train_model(lenet, train_dataloader, test_dataloader,creterion, optimizer, epoch_num=epoch_nums)"
   ]
  }
 ],
 "metadata": {
  "interpreter": {
   "hash": "d4d1e4263499bec80672ea0156c357c1ee493ec2b1c70f0acce89fc37c4a6abe"
  },
  "kernelspec": {
   "display_name": "Python 3.7.10 ('base')",
   "language": "python",
   "name": "python3"
  },
  "language_info": {
   "codemirror_mode": {
    "name": "ipython",
    "version": 3
   },
   "file_extension": ".py",
   "mimetype": "text/x-python",
   "name": "python",
   "nbconvert_exporter": "python",
   "pygments_lexer": "ipython3",
   "version": "3.7.10"
  },
  "orig_nbformat": 4
 },
 "nbformat": 4,
 "nbformat_minor": 2
}
