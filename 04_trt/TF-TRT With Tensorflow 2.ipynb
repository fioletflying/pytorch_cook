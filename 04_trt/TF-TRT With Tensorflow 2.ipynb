{
 "cells": [
  {
   "cell_type": "code",
   "execution_count": null,
   "metadata": {},
   "outputs": [],
   "source": [
    "!wget \"https://raw.githubusercontent.com/NVIDIA/TensorRT/main/quickstart/IntroNotebooks/helper.py\""
   ]
  },
  {
   "cell_type": "code",
   "execution_count": 1,
   "metadata": {},
   "outputs": [
    {
     "name": "stdout",
     "output_type": "stream",
     "text": [
      "Tue Jul  5 08:39:46 2022       \n",
      "+-----------------------------------------------------------------------------+\n",
      "| NVIDIA-SMI 470.94       Driver Version: 470.94       CUDA Version: 11.4     |\n",
      "|-------------------------------+----------------------+----------------------+\n",
      "| GPU  Name        Persistence-M| Bus-Id        Disp.A | Volatile Uncorr. ECC |\n",
      "| Fan  Temp  Perf  Pwr:Usage/Cap|         Memory-Usage | GPU-Util  Compute M. |\n",
      "|                               |                      |               MIG M. |\n",
      "|===============================+======================+======================|\n",
      "|   0  NVIDIA GeForce ...  Off  | 00000000:02:00.0 Off |                  N/A |\n",
      "| 55%   71C    P2   301W / 350W |  17715MiB / 24268MiB |     98%      Default |\n",
      "|                               |                      |                  N/A |\n",
      "+-------------------------------+----------------------+----------------------+\n",
      "|   1  NVIDIA GeForce ...  Off  | 00000000:82:00.0 Off |                  N/A |\n",
      "|  0%   33C    P8     9W / 350W |      2MiB / 24268MiB |      0%      Default |\n",
      "|                               |                      |                  N/A |\n",
      "+-------------------------------+----------------------+----------------------+\n",
      "                                                                               \n",
      "+-----------------------------------------------------------------------------+\n",
      "| Processes:                                                                  |\n",
      "|  GPU   GI   CI        PID   Type   Process name                  GPU Memory |\n",
      "|        ID   ID                                                   Usage      |\n",
      "|=============================================================================|\n",
      "+-----------------------------------------------------------------------------+\n"
     ]
    }
   ],
   "source": [
    "!nvidia-smi"
   ]
  },
  {
   "cell_type": "code",
   "execution_count": 1,
   "metadata": {},
   "outputs": [],
   "source": [
    "import os\n",
    "os.environ[\"CUDA_VISIBLE_DEVICES\"] = \"1\""
   ]
  },
  {
   "cell_type": "code",
   "execution_count": 2,
   "metadata": {},
   "outputs": [
    {
     "name": "stdout",
     "output_type": "stream",
     "text": [
      "2.6.0\n"
     ]
    }
   ],
   "source": [
    "import tensorflow as tf\n",
    "\n",
    "print(tf.__version__)"
   ]
  },
  {
   "cell_type": "code",
   "execution_count": 3,
   "metadata": {},
   "outputs": [
    {
     "name": "stderr",
     "output_type": "stream",
     "text": [
      "2022-07-05 08:49:51.753674: I tensorflow/core/platform/cpu_feature_guard.cc:142] This TensorFlow binary is optimized with oneAPI Deep Neural Network Library (oneDNN) to use the following CPU instructions in performance-critical operations:  SSE4.1 SSE4.2 AVX AVX2 FMA\n",
      "To enable them in other operations, rebuild TensorFlow with the appropriate compiler flags.\n",
      "2022-07-05 08:49:52.418227: I tensorflow/core/common_runtime/gpu/gpu_device.cc:1510] Created device /job:localhost/replica:0/task:0/device:GPU:0 with 22302 MB memory:  -> device: 0, name: NVIDIA GeForce RTX 3090, pci bus id: 0000:82:00.0, compute capability: 8.6\n"
     ]
    }
   ],
   "source": [
    "from tensorflow.keras.applications import ResNet50\n",
    "\n",
    "model_dir = 'data/resnet50_saved_model'\n",
    "model = ResNet50(include_top=True, weights='imagenet')"
   ]
  },
  {
   "cell_type": "code",
   "execution_count": 6,
   "metadata": {},
   "outputs": [
    {
     "name": "stdout",
     "output_type": "stream",
     "text": [
      "WARNING:tensorflow:Compiled the loaded model, but the compiled metrics have yet to be built. `model.compile_metrics` will be empty until you train or evaluate the model.\n"
     ]
    },
    {
     "name": "stderr",
     "output_type": "stream",
     "text": [
      "2022-05-31 23:41:12.601755: W tensorflow/python/util/util.cc:348] Sets are not currently considered sequences, but this may change in the future, so consider avoiding using them.\n"
     ]
    },
    {
     "name": "stdout",
     "output_type": "stream",
     "text": [
      "INFO:tensorflow:Assets written to: data/resnet50_saved_model/assets\n"
     ]
    },
    {
     "name": "stderr",
     "output_type": "stream",
     "text": [
      "/root/miniconda3/envs/trt_tf/lib/python3.8/site-packages/keras/utils/generic_utils.py:494: CustomMaskWarning: Custom mask layers require a config and must override get_config. When loading, the custom mask layer must be passed to the custom_objects argument.\n",
      "  warnings.warn('Custom mask layers require a config and must override '\n"
     ]
    }
   ],
   "source": [
    "model.save(model_dir) "
   ]
  },
  {
   "cell_type": "code",
   "execution_count": 4,
   "metadata": {},
   "outputs": [],
   "source": [
    "import numpy as np\n",
    "\n",
    "BATCH_SIZE = 32\n",
    "\n",
    "dummy_input_batch = np.zeros((BATCH_SIZE, 224, 224, 3))"
   ]
  },
  {
   "cell_type": "code",
   "execution_count": 5,
   "metadata": {},
   "outputs": [],
   "source": [
    "\n",
    "import tensorflow as tf\n",
    "import tensorrt as trt"
   ]
  },
  {
   "cell_type": "code",
   "execution_count": 6,
   "metadata": {},
   "outputs": [],
   "source": [
    "from tensorflow.python.compiler.tensorrt import trt_convert as tf_trt\n",
    "from tensorflow.python.saved_model import tag_constants"
   ]
  },
  {
   "cell_type": "code",
   "execution_count": 7,
   "metadata": {},
   "outputs": [],
   "source": [
    "PRECISION = \"FP32\" # Options are \"FP32\", \"FP16\", or \"INT8\""
   ]
  },
  {
   "cell_type": "code",
   "execution_count": 18,
   "metadata": {},
   "outputs": [],
   "source": [
    "from trt_help import ModelOptimizer # using the helper from <URL>\n",
    "\n",
    "model_dir = 'data/resnet50_saved_model'\n",
    "\n",
    "opt_model = ModelOptimizer(model_dir)"
   ]
  },
  {
   "cell_type": "code",
   "execution_count": 19,
   "metadata": {},
   "outputs": [
    {
     "name": "stdout",
     "output_type": "stream",
     "text": [
      "INFO:tensorflow:Linked TensorRT version: (0, 0, 0)\n",
      "INFO:tensorflow:Loaded TensorRT version: (0, 0, 0)\n"
     ]
    },
    {
     "name": "stderr",
     "output_type": "stream",
     "text": [
      "2022-07-05 10:20:18.628912: I tensorflow/core/grappler/devices.cc:66] Number of eligible GPUs (core count >= 8, compute capability >= 0.0): 1\n",
      "2022-07-05 10:20:18.629129: I tensorflow/core/grappler/clusters/single_machine.cc:357] Starting new session\n",
      "2022-07-05 10:20:18.631058: I tensorflow/core/common_runtime/gpu/gpu_device.cc:1510] Created device /job:localhost/replica:0/task:0/device:GPU:0 with 22302 MB memory:  -> device: 0, name: NVIDIA GeForce RTX 3090, pci bus id: 0000:82:00.0, compute capability: 8.6\n",
      "2022-07-05 10:20:18.681386: I tensorflow/core/grappler/optimizers/meta_optimizer.cc:1137] Optimization results for grappler item: graph_to_optimize\n",
      "  function_optimizer: Graph size after: 1202 nodes (878), 1857 edges (1533), time = 28.024ms.\n",
      "  function_optimizer: function_optimizer did nothing. time = 1.378ms.\n",
      "\n",
      "2022-07-05 10:20:21.381705: I tensorflow/core/grappler/devices.cc:66] Number of eligible GPUs (core count >= 8, compute capability >= 0.0): 1\n",
      "2022-07-05 10:20:21.381836: I tensorflow/core/grappler/clusters/single_machine.cc:357] Starting new session\n",
      "2022-07-05 10:20:21.383893: I tensorflow/core/common_runtime/gpu/gpu_device.cc:1510] Created device /job:localhost/replica:0/task:0/device:GPU:0 with 22302 MB memory:  -> device: 0, name: NVIDIA GeForce RTX 3090, pci bus id: 0000:82:00.0, compute capability: 8.6\n",
      "2022-07-05 10:20:22.650833: I tensorflow/core/grappler/optimizers/meta_optimizer.cc:1137] Optimization results for grappler item: tf_graph\n",
      "  constant_folding: Graph size after: 562 nodes (-640), 1217 edges (-640), time = 592.9ms.\n",
      "  layout: Graph size after: 566 nodes (4), 1221 edges (4), time = 175.003ms.\n",
      "  constant_folding: Graph size after: 564 nodes (-2), 1219 edges (-2), time = 141.542ms.\n",
      "  constant_folding: Graph size after: 564 nodes (0), 1219 edges (0), time = 80.212ms.\n",
      "\n"
     ]
    },
    {
     "name": "stdout",
     "output_type": "stream",
     "text": [
      "INFO:tensorflow:Assets written to: data/resnet50_saved_model_FP32/assets\n"
     ]
    }
   ],
   "source": [
    "model_fp32 = opt_model.convert(model_dir+'_FP32', precision=PRECISION)"
   ]
  },
  {
   "cell_type": "code",
   "execution_count": 20,
   "metadata": {},
   "outputs": [
    {
     "data": {
      "text/plain": [
       "array([[1.6970110e-04, 3.2997524e-04, 6.1348408e-05, ..., 1.4625140e-05,\n",
       "        1.4453841e-04, 6.6052313e-04],\n",
       "       [1.6970110e-04, 3.2997524e-04, 6.1348408e-05, ..., 1.4625140e-05,\n",
       "        1.4453841e-04, 6.6052313e-04],\n",
       "       [1.6970110e-04, 3.2997524e-04, 6.1348408e-05, ..., 1.4625140e-05,\n",
       "        1.4453841e-04, 6.6052313e-04],\n",
       "       ...,\n",
       "       [1.6970110e-04, 3.2997524e-04, 6.1348408e-05, ..., 1.4625140e-05,\n",
       "        1.4453841e-04, 6.6052313e-04],\n",
       "       [1.6970110e-04, 3.2997524e-04, 6.1348408e-05, ..., 1.4625140e-05,\n",
       "        1.4453841e-04, 6.6052313e-04],\n",
       "       [1.6970110e-04, 3.2997524e-04, 6.1348408e-05, ..., 1.4625140e-05,\n",
       "        1.4453841e-04, 6.6052313e-04]], dtype=float32)"
      ]
     },
     "execution_count": 20,
     "metadata": {},
     "output_type": "execute_result"
    }
   ],
   "source": [
    "model_fp32.predict(dummy_input_batch)"
   ]
  },
  {
   "cell_type": "code",
   "execution_count": 21,
   "metadata": {},
   "outputs": [
    {
     "name": "stdout",
     "output_type": "stream",
     "text": [
      "(32, 1000)\n",
      "(32, 1000)\n",
      "[[1.69701569e-04 3.29971721e-04 6.13481097e-05 ... 1.46249695e-05\n",
      "  1.44537422e-04 6.60522783e-04]\n",
      " [1.69701569e-04 3.29971721e-04 6.13481097e-05 ... 1.46249695e-05\n",
      "  1.44537422e-04 6.60522783e-04]\n",
      " [1.69701569e-04 3.29971721e-04 6.13481097e-05 ... 1.46249695e-05\n",
      "  1.44537422e-04 6.60522783e-04]\n",
      " ...\n",
      " [1.69701569e-04 3.29971721e-04 6.13481097e-05 ... 1.46249695e-05\n",
      "  1.44537422e-04 6.60522783e-04]\n",
      " [1.69701569e-04 3.29971721e-04 6.13481097e-05 ... 1.46249695e-05\n",
      "  1.44537422e-04 6.60522783e-04]\n",
      " [1.69701569e-04 3.29971721e-04 6.13481097e-05 ... 1.46249695e-05\n",
      "  1.44537422e-04 6.60522783e-04]]\n",
      "[[1.6970110e-04 3.2997524e-04 6.1348408e-05 ... 1.4625140e-05\n",
      "  1.4453841e-04 6.6052313e-04]\n",
      " [1.6970110e-04 3.2997524e-04 6.1348408e-05 ... 1.4625140e-05\n",
      "  1.4453841e-04 6.6052313e-04]\n",
      " [1.6970110e-04 3.2997524e-04 6.1348408e-05 ... 1.4625140e-05\n",
      "  1.4453841e-04 6.6052313e-04]\n",
      " ...\n",
      " [1.6970110e-04 3.2997524e-04 6.1348408e-05 ... 1.4625140e-05\n",
      "  1.4453841e-04 6.6052313e-04]\n",
      " [1.6970110e-04 3.2997524e-04 6.1348408e-05 ... 1.4625140e-05\n",
      "  1.4453841e-04 6.6052313e-04]\n",
      " [1.6970110e-04 3.2997524e-04 6.1348408e-05 ... 1.4625140e-05\n",
      "  1.4453841e-04 6.6052313e-04]]\n"
     ]
    }
   ],
   "source": [
    "# Warm up - the first batch through a model generally takes longer\n",
    "a = model.predict(dummy_input_batch)\n",
    "b = model_fp32.predict(dummy_input_batch)\n",
    "print(a.shape)\n",
    "print(b.shape)\n",
    "print(a)\n",
    "print(b)"
   ]
  },
  {
   "cell_type": "code",
   "execution_count": 22,
   "metadata": {},
   "outputs": [
    {
     "name": "stdout",
     "output_type": "stream",
     "text": [
      "52.6 ms ± 493 µs per loop (mean ± std. dev. of 7 runs, 10 loops each)\n"
     ]
    }
   ],
   "source": [
    "%%timeit\n",
    "\n",
    "model.predict_on_batch(dummy_input_batch)"
   ]
  },
  {
   "cell_type": "code",
   "execution_count": 23,
   "metadata": {},
   "outputs": [
    {
     "name": "stdout",
     "output_type": "stream",
     "text": [
      "31.3 ms ± 647 µs per loop (mean ± std. dev. of 7 runs, 10 loops each)\n"
     ]
    }
   ],
   "source": [
    "%%timeit\n",
    "\n",
    "model_fp32.predict(dummy_input_batch)"
   ]
  }
 ],
 "metadata": {
  "kernelspec": {
   "display_name": "Python 3.9.12 ('tf26_trt')",
   "language": "python",
   "name": "python3"
  },
  "language_info": {
   "codemirror_mode": {
    "name": "ipython",
    "version": 3
   },
   "file_extension": ".py",
   "mimetype": "text/x-python",
   "name": "python",
   "nbconvert_exporter": "python",
   "pygments_lexer": "ipython3",
   "version": "3.9.12"
  },
  "orig_nbformat": 4,
  "vscode": {
   "interpreter": {
    "hash": "f49cab0004cfed5e72baf7f02cb7b5e0925b1cb329d6f2cfb632e4d853e97ccb"
   }
  }
 },
 "nbformat": 4,
 "nbformat_minor": 2
}
